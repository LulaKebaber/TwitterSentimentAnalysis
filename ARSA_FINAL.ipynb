{
 "cells": [
  {
   "cell_type": "markdown",
   "id": "155f5d18-ffbe-422f-9d3d-aa76177ac579",
   "metadata": {
    "id": "155f5d18-ffbe-422f-9d3d-aa76177ac579"
   },
   "source": [
    "## The Problem of Multi-Class Sentiment Analysis\n",
    "\n",
    "Multi-class sentiment analysis refers to the task of classifying textual data into more than two sentiment categories, such as **positive**, **neutral**, and **negative**. Unlike binary sentiment analysis, which distinguishes only between positive and negative sentiments, the multi-class approach provides a more nuanced understanding of the emotional content within text.\n",
    "\n",
    "### Why is Multi-Class Sentiment Analysis Important?\n",
    "\n",
    "Binary sentiment classification, while useful in simple applications, suffers from significant limitations. One key drawback is its inability to account for **neutral sentiment**. Many real-world texts, especially those from social media platforms like Twitter, do not express strong opinions and instead fall into a neutral category. Ignoring this class leads to a **loss of valuable information** and may introduce bias in downstream decision-making processes.\n",
    "\n",
    "By contrast, a multi-class sentiment analysis approach:\n",
    "- Enables **richer and more accurate sentiment representation**;\n",
    "- Allows for **better understanding of customer opinions** and public attitudes;\n",
    "- Supports **more precise analytics** for businesses and researchers;\n",
    "- Facilitates **improved decision-making** based on more granular emotional insights.\n",
    "\n",
    "### Project Objective\n",
    "\n",
    "The primary objective of this project is to **design and evaluate various machine learning and deep learning models** for multi-class, single-label sentiment classification using the [**Twitter US Airline Sentiment**](https://www.kaggle.com/datasets/crowdflower/twitter-airline-sentiment/data) dataset. We aim to:\n",
    "- Compare the performance of traditional machine learning models (e.g., Logistic Regression, SVM) with state-of-the-art deep learning models (e.g., fine-tuned transformer-based architectures);\n",
    "- Analyze the strengths and weaknesses of each model with respect to class imbalance and generalization;\n",
    "- Provide recommendations for practical deployment in real-world sentiment analysis systems.\n"
   ]
  },
  {
   "cell_type": "markdown",
   "id": "c2c795e5-e5af-421e-a0da-0954ce988e04",
   "metadata": {
    "id": "c2c795e5-e5af-421e-a0da-0954ce988e04"
   },
   "source": [
    "# 1. Data Selection and Preparation\n",
    "\n",
    "Effective data selection and preprocessing are the foundation of any successful machine learning project. High-quality, well-prepared data significantly improves model performance and generalization.\n",
    "\n",
    "## 1.1 Dataset Selection\n",
    "\n",
    "In this project, we use the **Twitter US Airline Sentiment** dataset, which is publicly available on [Kaggle](https://www.kaggle.com/datasets/crowdflower/twitter-airline-sentiment). The dataset contains **14,640 tweets** directed at major U.S. airlines and labeled with one of three sentiment categories: **positive**, **neutral** and **negative**"
   ]
  },
  {
   "cell_type": "code",
   "execution_count": 1,
   "id": "a9b009bb-f86b-473f-9a11-f46f5daf64fa",
   "metadata": {
    "execution": {
     "iopub.execute_input": "2025-06-23T18:46:47.516572Z",
     "iopub.status.busy": "2025-06-23T18:46:47.516388Z",
     "iopub.status.idle": "2025-06-23T18:46:52.165909Z",
     "shell.execute_reply": "2025-06-23T18:46:52.165197Z",
     "shell.execute_reply.started": "2025-06-23T18:46:47.516556Z"
    },
    "id": "a9b009bb-f86b-473f-9a11-f46f5daf64fa"
   },
   "outputs": [],
   "source": [
    "import pandas as pd\n",
    "import matplotlib.pyplot as plt\n",
    "import seaborn as sns\n",
    "import numpy as np"
   ]
  },
  {
   "cell_type": "code",
   "execution_count": 4,
   "id": "eusPWfRralVK",
   "metadata": {
    "colab": {
     "base_uri": "https://localhost:8080/"
    },
    "id": "eusPWfRralVK",
    "outputId": "d3c9b3e3-3204-4a13-c4ed-6c4020807625"
   },
   "outputs": [
    {
     "name": "stdout",
     "output_type": "stream",
     "text": [
      "Drive already mounted at /content/drive; to attempt to forcibly remount, call drive.mount(\"/content/drive\", force_remount=True).\n"
     ]
    }
   ],
   "source": [
    "from google.colab import drive\n",
    "drive.mount('/content/drive')"
   ]
  },
  {
   "cell_type": "code",
   "execution_count": 2,
   "id": "37d161b5-ab3d-45a6-bd3a-f08084616642",
   "metadata": {
    "execution": {
     "iopub.execute_input": "2025-06-23T18:46:52.166936Z",
     "iopub.status.busy": "2025-06-23T18:46:52.166651Z",
     "iopub.status.idle": "2025-06-23T18:46:52.344245Z",
     "shell.execute_reply": "2025-06-23T18:46:52.343426Z",
     "shell.execute_reply.started": "2025-06-23T18:46:52.166919Z"
    },
    "id": "37d161b5-ab3d-45a6-bd3a-f08084616642"
   },
   "outputs": [],
   "source": [
    "path = \"/kaggle/input/twitter-airline-sentiment/Tweets.csv\"\n",
    "df = pd.read_csv(path, index_col=False)"
   ]
  },
  {
   "cell_type": "code",
   "execution_count": 3,
   "id": "136d5e4f-ccf2-4a1e-88ec-9faf5653243a",
   "metadata": {
    "colab": {
     "base_uri": "https://localhost:8080/",
     "height": 206
    },
    "execution": {
     "iopub.execute_input": "2025-06-23T18:46:52.346126Z",
     "iopub.status.busy": "2025-06-23T18:46:52.345888Z",
     "iopub.status.idle": "2025-06-23T18:46:52.387699Z",
     "shell.execute_reply": "2025-06-23T18:46:52.386953Z",
     "shell.execute_reply.started": "2025-06-23T18:46:52.346108Z"
    },
    "id": "136d5e4f-ccf2-4a1e-88ec-9faf5653243a",
    "outputId": "27a7d4e6-ed4d-4b24-9206-c43c150b7203"
   },
   "outputs": [
    {
     "data": {
      "text/html": [
       "<div>\n",
       "<style scoped>\n",
       "    .dataframe tbody tr th:only-of-type {\n",
       "        vertical-align: middle;\n",
       "    }\n",
       "\n",
       "    .dataframe tbody tr th {\n",
       "        vertical-align: top;\n",
       "    }\n",
       "\n",
       "    .dataframe thead th {\n",
       "        text-align: right;\n",
       "    }\n",
       "</style>\n",
       "<table border=\"1\" class=\"dataframe\">\n",
       "  <thead>\n",
       "    <tr style=\"text-align: right;\">\n",
       "      <th></th>\n",
       "      <th>text</th>\n",
       "      <th>label</th>\n",
       "    </tr>\n",
       "  </thead>\n",
       "  <tbody>\n",
       "    <tr>\n",
       "      <th>0</th>\n",
       "      <td>@VirginAmerica What @dhepburn said.</td>\n",
       "      <td>1</td>\n",
       "    </tr>\n",
       "    <tr>\n",
       "      <th>1</th>\n",
       "      <td>@VirginAmerica plus you've added commercials t...</td>\n",
       "      <td>2</td>\n",
       "    </tr>\n",
       "    <tr>\n",
       "      <th>2</th>\n",
       "      <td>@VirginAmerica I didn't today... Must mean I n...</td>\n",
       "      <td>1</td>\n",
       "    </tr>\n",
       "    <tr>\n",
       "      <th>3</th>\n",
       "      <td>@VirginAmerica it's really aggressive to blast...</td>\n",
       "      <td>0</td>\n",
       "    </tr>\n",
       "    <tr>\n",
       "      <th>4</th>\n",
       "      <td>@VirginAmerica and it's a really big bad thing...</td>\n",
       "      <td>0</td>\n",
       "    </tr>\n",
       "  </tbody>\n",
       "</table>\n",
       "</div>"
      ],
      "text/plain": [
       "                                                text  label\n",
       "0                @VirginAmerica What @dhepburn said.      1\n",
       "1  @VirginAmerica plus you've added commercials t...      2\n",
       "2  @VirginAmerica I didn't today... Must mean I n...      1\n",
       "3  @VirginAmerica it's really aggressive to blast...      0\n",
       "4  @VirginAmerica and it's a really big bad thing...      0"
      ]
     },
     "execution_count": 3,
     "metadata": {},
     "output_type": "execute_result"
    }
   ],
   "source": [
    "df_processed = df[['text', 'airline_sentiment']].copy()\n",
    "target_names=['Negative', 'Neutral', 'Positive']\n",
    "\n",
    "# Mapping: negative=0, neutral=1, positive=2\n",
    "sentiment_mapping = {'negative': 0, 'neutral': 1, 'positive': 2}\n",
    "df_processed['label'] = df_processed['airline_sentiment'].map(sentiment_mapping)\n",
    "df_processed = df_processed[['text', 'label']]\n",
    "df_processed.head()"
   ]
  },
  {
   "cell_type": "code",
   "execution_count": 4,
   "id": "00bb0aac-694b-46f6-8a9d-5ee9b76d1a42",
   "metadata": {
    "colab": {
     "base_uri": "https://localhost:8080/"
    },
    "execution": {
     "iopub.execute_input": "2025-06-23T18:46:52.388807Z",
     "iopub.status.busy": "2025-06-23T18:46:52.388526Z",
     "iopub.status.idle": "2025-06-23T18:46:52.393914Z",
     "shell.execute_reply": "2025-06-23T18:46:52.393207Z",
     "shell.execute_reply.started": "2025-06-23T18:46:52.388750Z"
    },
    "id": "00bb0aac-694b-46f6-8a9d-5ee9b76d1a42",
    "outputId": "a30f52c0-53fc-46a4-9ca5-788e0f130bbb"
   },
   "outputs": [
    {
     "data": {
      "text/plain": [
       "(14640, 2)"
      ]
     },
     "execution_count": 4,
     "metadata": {},
     "output_type": "execute_result"
    }
   ],
   "source": [
    "df_processed.shape"
   ]
  },
  {
   "cell_type": "code",
   "execution_count": 14,
   "id": "3b6e2bef-33f8-48f6-9ce9-3d4eee6b2041",
   "metadata": {
    "colab": {
     "base_uri": "https://localhost:8080/",
     "height": 487
    },
    "execution": {
     "iopub.execute_input": "2025-06-23T18:50:09.593324Z",
     "iopub.status.busy": "2025-06-23T18:50:09.592783Z",
     "iopub.status.idle": "2025-06-23T18:50:09.712371Z",
     "shell.execute_reply": "2025-06-23T18:50:09.711733Z",
     "shell.execute_reply.started": "2025-06-23T18:50:09.593303Z"
    },
    "id": "3b6e2bef-33f8-48f6-9ce9-3d4eee6b2041",
    "outputId": "90911d46-e0fa-4b3d-a9d1-aea4996f9aaf"
   },
   "outputs": [
    {
     "data": {
      "image/png": "[encoded data removed]",
      "text/plain": [
       "<Figure size 700x500 with 1 Axes>"
      ]
     },
     "metadata": {},
     "output_type": "display_data"
    }
   ],
   "source": [
    "labels = df_processed['label'].value_counts().index\n",
    "counts = df_processed['label'].value_counts().values\n",
    "\n",
    "plt.figure(figsize=(7, 5))\n",
    "plt.bar(labels, counts, color=['#4c72b0', '#55a868', '#f1a340'])\n",
    "plt.title('Class distribution')\n",
    "plt.xlabel('Sentiment (0: Negative, 1: Neutral, 2: Positive)')\n",
    "plt.ylabel('Number of tweets')\n",
    "plt.xticks([0, 1, 2], ['Negative', 'Neutral', 'Positive'])\n",
    "\n",
    "plt.show()\n"
   ]
  },
  {
   "cell_type": "code",
   "execution_count": 20,
   "id": "8d6cff6f-bbeb-4a55-afc3-ba879d4f05f8",
   "metadata": {
    "colab": {
     "base_uri": "https://localhost:8080/"
    },
    "execution": {
     "iopub.execute_input": "2025-06-23T18:51:51.676448Z",
     "iopub.status.busy": "2025-06-23T18:51:51.676190Z",
     "iopub.status.idle": "2025-06-23T18:51:51.690593Z",
     "shell.execute_reply": "2025-06-23T18:51:51.689697Z",
     "shell.execute_reply.started": "2025-06-23T18:51:51.676429Z"
    },
    "id": "8d6cff6f-bbeb-4a55-afc3-ba879d4f05f8",
    "outputId": "76a760ec-2281-4a47-c76f-465913094fab"
   },
   "outputs": [
    {
     "name": "stdout",
     "output_type": "stream",
     "text": [
      "Example samples for each class\n",
      "\n",
      "--- Negative (label 0) ---\n",
      "--------------------------------------------------\n",
      "Text: @united gate C 24 IAD. U released passengers to board w/others deplaning .50 peopleOn bridge while next flight  board http://t.co/HfoF33iyhi\n",
      "Label: 0\n",
      "--------------------------------------------------\n",
      "Text: @USAirways 1729 connecting in charlotte to houston. Mechanical issue determined while q'd to take off. And we checked our bags.\n",
      "Label: 0\n",
      "--------------------------------------------------\n",
      "\n",
      "--- Neutral (label 1) ---\n",
      "--------------------------------------------------\n",
      "Text: @united we finally just arrive to Bogota, good but long flight!!\n",
      "Label: 1\n",
      "--------------------------------------------------\n",
      "Text: @AmericanAir got a callback at 1 am, took care of it. thanks.\n",
      "Label: 1\n",
      "--------------------------------------------------\n",
      "\n",
      "--- Positive (label 2) ---\n",
      "--------------------------------------------------\n",
      "Text: @SouthwestAir thanks for your excellent response time and assistance! All set :)\n",
      "Label: 2\n",
      "--------------------------------------------------\n",
      "Text: @JetBlue thanks. I appreciate your prompt response.\n",
      "Label: 2\n",
      "--------------------------------------------------\n"
     ]
    }
   ],
   "source": [
    "# Example samples for each class\n",
    "negative_samples = df_processed[df_processed['label'] == 0].sample(2, random_state=42)\n",
    "neutral_samples = df_processed[df_processed['label'] == 1].sample(2, random_state=42)\n",
    "positive_samples = df_processed[df_processed['label'] == 2].sample(2, random_state=42)\n",
    "\n",
    "def print_samples(class_name, samples):\n",
    "    print(f\"\\n--- {class_name} ---\")\n",
    "    print(\"-\" * 50)\n",
    "    for i, row in samples.iterrows():\n",
    "        print(f\"Text: {row['text']}\")\n",
    "        print(f\"Label: {row['label']}\")\n",
    "        print(\"-\" * 50)\n",
    "\n",
    "print(\"Example samples for each class\")\n",
    "print_samples(\"Negative (label 0)\", negative_samples)\n",
    "print_samples(\"Neutral (label 1)\", neutral_samples)\n",
    "print_samples(\"Positive (label 2)\", positive_samples)\n"
   ]
  },
  {
   "cell_type": "markdown",
   "id": "551ace15-962f-4cf9-9d8b-da23e298ddda",
   "metadata": {
    "id": "551ace15-962f-4cf9-9d8b-da23e298ddda"
   },
   "source": [
    "## 1.2 Text Preprocessing\n",
    "\n",
    "Text preprocessing is a crucial step in any NLP pipeline. It involves cleaning and normalizing the raw textual data to reduce noise and improve the effectiveness of feature extraction and model performance.\n",
    "\n",
    "### Preprocessing Steps\n",
    "\n",
    "The following preprocessing steps are applied in this project:\n",
    "\n",
    "- **Lowercasing**: Converting all text to lowercase using `text.lower()`. This helps reduce redundancy, as \"Flight\" and \"flight\" should be considered the same.\n",
    "- **Removing punctuation and numbers**: Using regular expressions such as to eliminate irrelevant characters that do not contribute to sentiment analysis.\n",
    "- **Removing HTML tags and URLs**: Particularly useful for datasets extracted from the web. URLs are removed using regex patterns.\n",
    "- **Stopword removal**: Common words (e.g., \"the\", \"is\", \"at\") are typically removed to focus on content words. However, in sentiment analysis, caution must be exercised, as negations like *\"not\"*, *\"no\"*, or *\"never\"* carry strong sentiment. Therefore, a custom stopword list is used that retains such words.\n",
    "- **Lemmatization**: Reducing words to their base form (e.g., \"delayed\" → \"delay\") using `WordNetLemmatizer`. This helps reduce dimensionality while preserving meaning."
   ]
  },
  {
   "cell_type": "markdown",
   "id": "a25a2e8b-fd16-4c8d-bb91-84d4cd0ecdca",
   "metadata": {
    "id": "a25a2e8b-fd16-4c8d-bb91-84d4cd0ecdca"
   },
   "source": [
    "### Preprocessing Function\n",
    "\n",
    "Below is a reusable Python function that applies the aforementioned steps:\n"
   ]
  },
  {
   "cell_type": "code",
   "execution_count": 21,
   "id": "b6b5727b-2e0d-4190-b519-3c7e80ec6b3f",
   "metadata": {
    "execution": {
     "iopub.execute_input": "2025-06-23T18:52:02.065206Z",
     "iopub.status.busy": "2025-06-23T18:52:02.064730Z",
     "iopub.status.idle": "2025-06-23T18:52:04.208313Z",
     "shell.execute_reply": "2025-06-23T18:52:04.207707Z",
     "shell.execute_reply.started": "2025-06-23T18:52:02.065182Z"
    },
    "id": "b6b5727b-2e0d-4190-b519-3c7e80ec6b3f"
   },
   "outputs": [],
   "source": [
    "import re\n",
    "import nltk\n",
    "from nltk.corpus import stopwords\n",
    "from nltk.stem import WordNetLemmatizer\n",
    "from bs4 import BeautifulSoup"
   ]
  },
  {
   "cell_type": "code",
   "execution_count": 22,
   "id": "8df8ba92-98b4-40e0-b918-5078e48b68e8",
   "metadata": {
    "execution": {
     "iopub.execute_input": "2025-06-23T18:52:04.210395Z",
     "iopub.status.busy": "2025-06-23T18:52:04.209621Z",
     "iopub.status.idle": "2025-06-23T18:52:04.692439Z",
     "shell.execute_reply": "2025-06-23T18:52:04.691758Z",
     "shell.execute_reply.started": "2025-06-23T18:52:04.210375Z"
    },
    "id": "8df8ba92-98b4-40e0-b918-5078e48b68e8"
   },
   "outputs": [],
   "source": [
    "nltk.download('stopwords', quiet=True)\n",
    "nltk.download('wordnet', quiet=True)\n",
    "nltk.download('punkt_tab', quiet=True)\n",
    "\n",
    "stop_words = set(stopwords.words('english'))\n",
    "words_to_keep = {\n",
    "    'not', 'no', 'nor', 'don', 'ain', 'aren', 'couldn', 'didn', 'doesn',\n",
    "    'hadn', 'hasn', 'haven', 'isn', 'ma', 'mightn', 'mustn', 'needn',\n",
    "    'shan', 'shouldn', 'wasn', 'weren', 'won', 'wouldn', 'never', 'aren'\n",
    "}\n",
    "stop_words = stop_words - words_to_keep\n",
    "\n",
    "lemmatizer = WordNetLemmatizer()"
   ]
  },
  {
   "cell_type": "code",
   "execution_count": 23,
   "id": "e6dbdc74-eca3-4e08-bbd2-bc808ad713f3",
   "metadata": {
    "execution": {
     "iopub.execute_input": "2025-06-23T18:52:04.796334Z",
     "iopub.status.busy": "2025-06-23T18:52:04.796099Z",
     "iopub.status.idle": "2025-06-23T18:52:04.801421Z",
     "shell.execute_reply": "2025-06-23T18:52:04.800708Z",
     "shell.execute_reply.started": "2025-06-23T18:52:04.796317Z"
    },
    "id": "e6dbdc74-eca3-4e08-bbd2-bc808ad713f3"
   },
   "outputs": [],
   "source": [
    "def preprocess_text(text, remove_stopwords=True, lemmatize=True):\n",
    "    # Remove HTML tags and URLs\n",
    "    text = BeautifulSoup(text, \"html.parser\").get_text()\n",
    "    text = re.sub(r'http\\S+|www\\S+|https\\S+', '', text, flags=re.MULTILINE)\n",
    "    # Lowercase\n",
    "    text = text.lower()\n",
    "    # Remove mentions\n",
    "    text = re.sub(r'@\\w+', '', text)\n",
    "    # Remove punctuation and digits\n",
    "    text = re.sub(r'[^\\w\\s]', '', text)\n",
    "    text = re.sub(r'\\d+', '', text)\n",
    "\n",
    "    # Tokenize\n",
    "    tokens = text.split()\n",
    "\n",
    "    # Remove stop words\n",
    "    if remove_stopwords:\n",
    "        tokens = [word for word in tokens if word not in stop_words]\n",
    "    # Lemmatize\n",
    "    if lemmatize:\n",
    "        tokens = [lemmatizer.lemmatize(word) for word in tokens]\n",
    "\n",
    "    return ' '.join(tokens)"
   ]
  },
  {
   "cell_type": "code",
   "execution_count": 24,
   "id": "CFxwFLpJfUP4",
   "metadata": {
    "execution": {
     "iopub.execute_input": "2025-06-23T18:52:06.255867Z",
     "iopub.status.busy": "2025-06-23T18:52:06.255201Z",
     "iopub.status.idle": "2025-06-23T18:52:10.074856Z",
     "shell.execute_reply": "2025-06-23T18:52:10.074322Z",
     "shell.execute_reply.started": "2025-06-23T18:52:06.255847Z"
    },
    "id": "CFxwFLpJfUP4"
   },
   "outputs": [],
   "source": [
    "df_processed['clean_text'] = df_processed['text'].apply(preprocess_text)"
   ]
  },
  {
   "cell_type": "markdown",
   "id": "223b1969-89ad-4c09-9698-82a2477e38de",
   "metadata": {
    "id": "223b1969-89ad-4c09-9698-82a2477e38de"
   },
   "source": [
    "# 2. Baseline Models\n",
    "\n",
    "Before applying complex neural network models, we first establish baseline performance using traditional machine learning classifiers. These models are relatively fast to train and offer valuable insights into the data and task complexity."
   ]
  },
  {
   "cell_type": "markdown",
   "id": "15110fc6-9668-4b3c-a254-fbd02410adcd",
   "metadata": {
    "id": "15110fc6-9668-4b3c-a254-fbd02410adcd"
   },
   "source": [
    "## 2.1 Feature Extraction\n",
    "\n",
    "Before applying machine learning models, we need to convert the preprocessed text data into numerical format. This process is known as **feature extraction**. In this project, we consider two common approaches: TF-IDF and Bag-of-Words (BoW)."
   ]
  },
  {
   "cell_type": "markdown",
   "id": "63834c31-2dfd-47ab-9b37-6d1476558a20",
   "metadata": {
    "id": "63834c31-2dfd-47ab-9b37-6d1476558a20"
   },
   "source": [
    "### 2.1.1 TF-IDF\n",
    "\n",
    "The **Term Frequency–Inverse Document Frequency (TF-IDF)** method weighs the importance of a word in a document relative to its frequency in the entire corpus. This helps reduce the impact of commonly occurring but less informative words."
   ]
  },
  {
   "cell_type": "code",
   "execution_count": 25,
   "id": "95fd0b45-afc0-44fc-abe7-8468f17989db",
   "metadata": {
    "execution": {
     "iopub.execute_input": "2025-06-23T18:52:11.811731Z",
     "iopub.status.busy": "2025-06-23T18:52:11.811457Z",
     "iopub.status.idle": "2025-06-23T18:52:11.988620Z",
     "shell.execute_reply": "2025-06-23T18:52:11.988130Z",
     "shell.execute_reply.started": "2025-06-23T18:52:11.811712Z"
    },
    "id": "95fd0b45-afc0-44fc-abe7-8468f17989db"
   },
   "outputs": [],
   "source": [
    "from sklearn.feature_extraction.text import TfidfVectorizer\n",
    "\n",
    "# TF-IDF Vectorization\n",
    "tfidf_vectorizer = TfidfVectorizer(max_features=1000)\n",
    "X_tfidf = tfidf_vectorizer.fit_transform(df_processed['clean_text'])\n",
    "y = df_processed['label']"
   ]
  },
  {
   "cell_type": "markdown",
   "id": "1999e740-06b8-4a7f-85ce-1eb31e627a8a",
   "metadata": {
    "id": "1999e740-06b8-4a7f-85ce-1eb31e627a8a"
   },
   "source": [
    "### 2.1.2 Bag-of-Words (BoW)\n",
    "The Bag-of-Words model is a simpler technique that represents each document as a vector of word counts. While it does not account for word importance across documents, it often performs surprisingly well on many classification problems.\n"
   ]
  },
  {
   "cell_type": "code",
   "execution_count": 26,
   "id": "626e80d7-3f86-4bc6-b41a-ac57465964ea",
   "metadata": {
    "execution": {
     "iopub.execute_input": "2025-06-23T18:52:12.407909Z",
     "iopub.status.busy": "2025-06-23T18:52:12.407573Z",
     "iopub.status.idle": "2025-06-23T18:52:12.531190Z",
     "shell.execute_reply": "2025-06-23T18:52:12.530668Z",
     "shell.execute_reply.started": "2025-06-23T18:52:12.407885Z"
    },
    "id": "626e80d7-3f86-4bc6-b41a-ac57465964ea"
   },
   "outputs": [],
   "source": [
    "from sklearn.feature_extraction.text import CountVectorizer\n",
    "\n",
    "bow_vectorizer = CountVectorizer(max_features=1000)\n",
    "X_bow = bow_vectorizer.fit_transform(df_processed['clean_text'])"
   ]
  },
  {
   "cell_type": "markdown",
   "id": "82e523d4-f661-4d8b-9d6f-b8fea8ae9224",
   "metadata": {
    "id": "82e523d4-f661-4d8b-9d6f-b8fea8ae9224"
   },
   "source": [
    "## 2.2 Model Training and Evaluation\n",
    "\n",
    "We will evaluate the following baseline classifiers: **Logistic Regression**, **Multinomial Naive Bayes** and **Support Vector Machine (SVM)**\n",
    "\n",
    "Each model will be trained on TF-IDF feature representations of the preprocessed tweets. Performance will be measured using the following metrics:\n",
    "\n",
    "- **Accuracy** – the overall proportion of correctly classified instances.\n",
    "- **Precision** – the ratio of true positives to all predicted positives, computed per class.\n",
    "- **Recall** – the ratio of true positives to all actual positives, computed per class.\n",
    "- **F1-Score** – the harmonic mean of precision and recall, providing a balanced evaluation of both.\n",
    "\n",
    "These metrics offer a comprehensive evaluation framework, especially useful in the presence of class imbalance. Each model is trained separately on both TF-IDF and Bag-of-Words features to assess the impact of feature representation on classification performance.\n",
    "\n"
   ]
  },
  {
   "cell_type": "markdown",
   "id": "617d7f57-5e38-4f64-a450-886df0c27a1f",
   "metadata": {
    "id": "617d7f57-5e38-4f64-a450-886df0c27a1f"
   },
   "source": [
    "### 2.2.1 Hyperparameter Tuning with GridSearchCV\n",
    "\n",
    "Before evaluating our models, we perform hyperparameter tuning using **GridSearchCV** with 5-fold cross-validation. This ensures that each classifier is trained with its optimal settings, improving its generalization ability and fairness in comparison."
   ]
  },
  {
   "cell_type": "code",
   "execution_count": 27,
   "id": "cf2cf46a-343a-4fe4-94b9-d0beb49571a6",
   "metadata": {
    "execution": {
     "iopub.execute_input": "2025-06-23T18:52:16.168364Z",
     "iopub.status.busy": "2025-06-23T18:52:16.168026Z",
     "iopub.status.idle": "2025-06-23T18:52:16.185541Z",
     "shell.execute_reply": "2025-06-23T18:52:16.185070Z",
     "shell.execute_reply.started": "2025-06-23T18:52:16.168346Z"
    },
    "id": "cf2cf46a-343a-4fe4-94b9-d0beb49571a6"
   },
   "outputs": [],
   "source": [
    "from sklearn.model_selection import GridSearchCV\n",
    "from sklearn.model_selection import train_test_split\n",
    "from sklearn.linear_model import LogisticRegression\n",
    "from sklearn.naive_bayes import MultinomialNB\n",
    "from sklearn.svm import LinearSVC\n",
    "from sklearn.metrics import classification_report\n",
    "\n",
    "base_results = {}\n",
    "\n",
    "models = {\n",
    "    \"Logistic Regression\": LogisticRegression(),\n",
    "    \"Naive Bayes\": MultinomialNB(),\n",
    "    \"SVM\": LinearSVC()\n",
    "}\n",
    "\n",
    "param_grids = {\n",
    "    \"Logistic Regression\": {\n",
    "        'C': [0.01, 0.1, 1, 10],\n",
    "        'max_iter': [2000],\n",
    "        'solver': ['liblinear'],\n",
    "        'penalty': ['l1', 'l2'],\n",
    "    },\n",
    "    \"Naive Bayes\": {\n",
    "        'alpha': [0.01, 0.1, 0.3, 0.5, 0.7, 1.0, 2.0],\n",
    "        'fit_prior': [True, False]\n",
    "    },\n",
    "    \"SVM\": {\n",
    "        'C': [0.01, 0.1, 1, 10],\n",
    "        'max_iter': [200000],\n",
    "        'loss': ['hinge', 'squared_hinge']\n",
    "    }\n",
    "}"
   ]
  },
  {
   "cell_type": "code",
   "execution_count": 28,
   "id": "a85ed577-a19c-496d-87f5-f2783353aa9a",
   "metadata": {
    "execution": {
     "iopub.execute_input": "2025-06-23T18:52:40.699411Z",
     "iopub.status.busy": "2025-06-23T18:52:40.698650Z",
     "iopub.status.idle": "2025-06-23T18:52:40.704272Z",
     "shell.execute_reply": "2025-06-23T18:52:40.703564Z",
     "shell.execute_reply.started": "2025-06-23T18:52:40.699382Z"
    },
    "id": "a85ed577-a19c-496d-87f5-f2783353aa9a"
   },
   "outputs": [],
   "source": [
    "def evaluate_model(model, X_test, y_test, target_names):\n",
    "    y_pred = model.predict(X_test)\n",
    "    report = classification_report(y_test, y_pred, output_dict=True, target_names=target_names)\n",
    "\n",
    "    print(classification_report(y_test, y_pred, target_names=target_names))\n",
    "\n",
    "    return {\n",
    "        \"Accuracy\": report[\"accuracy\"],\n",
    "        \"F1-Score\": report[\"weighted avg\"][\"f1-score\"]\n",
    "    }"
   ]
  },
  {
   "cell_type": "markdown",
   "id": "cfcb7eb2-ecae-4938-a936-e58e003a659e",
   "metadata": {
    "id": "cfcb7eb2-ecae-4938-a936-e58e003a659e"
   },
   "source": [
    "### 2.2.1 Training on TF-IDF Features\n",
    "\n",
    "In this subsection, we train three baseline classifiers—**Logistic Regression**, **Multinomial Naive Bayes**, and **Support Vector Machine (SVM)**—using the TF-IDF feature representation of the tweet text.\n",
    "\n",
    "To ensure optimal performance, we use **GridSearchCV** with 5-fold cross-validation to perform hyperparameter tuning for each model. The models are then evaluated on the held-out test set using metrics such as accuracy, precision, recall, and F1-score."
   ]
  },
  {
   "cell_type": "code",
   "execution_count": 29,
   "id": "b52c4cea-7245-4db2-9d27-0ea8b4abecb3",
   "metadata": {
    "execution": {
     "iopub.execute_input": "2025-06-23T18:52:46.037446Z",
     "iopub.status.busy": "2025-06-23T18:52:46.037187Z",
     "iopub.status.idle": "2025-06-23T18:52:46.045189Z",
     "shell.execute_reply": "2025-06-23T18:52:46.044530Z",
     "shell.execute_reply.started": "2025-06-23T18:52:46.037429Z"
    },
    "id": "b52c4cea-7245-4db2-9d27-0ea8b4abecb3"
   },
   "outputs": [],
   "source": [
    "X_train_tfidf, X_test_tfidf, y_train, y_test = train_test_split(X_tfidf, y, test_size=0.2, random_state=42)"
   ]
  },
  {
   "cell_type": "code",
   "execution_count": 236,
   "id": "656f476d-e1b7-4a82-9dfc-86ebcd1f909d",
   "metadata": {
    "execution": {
     "iopub.execute_input": "2025-06-23T21:50:55.709298Z",
     "iopub.status.busy": "2025-06-23T21:50:55.708541Z",
     "iopub.status.idle": "2025-06-23T21:50:55.713644Z",
     "shell.execute_reply": "2025-06-23T21:50:55.712686Z",
     "shell.execute_reply.started": "2025-06-23T21:50:55.709272Z"
    }
   },
   "outputs": [
    {
     "name": "stdout",
     "output_type": "stream",
     "text": [
      "Train dataset lengths: 11712\n",
      "Test dataset lengths: 2928\n"
     ]
    }
   ],
   "source": [
    "print(f\"Train dataset lengths: {len(y_train)}\")\n",
    "print(f\"Test dataset lengths: {len(y_test)}\")"
   ]
  },
  {
   "cell_type": "code",
   "execution_count": 30,
   "id": "5f36236e-5874-441b-bc96-1105c1474392",
   "metadata": {
    "colab": {
     "base_uri": "https://localhost:8080/"
    },
    "execution": {
     "iopub.execute_input": "2025-06-23T18:52:47.370834Z",
     "iopub.status.busy": "2025-06-23T18:52:47.370562Z",
     "iopub.status.idle": "2025-06-23T18:52:57.273759Z",
     "shell.execute_reply": "2025-06-23T18:52:57.273100Z",
     "shell.execute_reply.started": "2025-06-23T18:52:47.370815Z"
    },
    "id": "5f36236e-5874-441b-bc96-1105c1474392",
    "outputId": "9817e7eb-eb85-4e52-b671-ec5f75cd58e1"
   },
   "outputs": [
    {
     "name": "stdout",
     "output_type": "stream",
     "text": [
      "\n",
      "Running GridSearchCV for Logistic Regression...\n",
      "Best parameters for Logistic Regression: {'C': 10, 'max_iter': 2000, 'penalty': 'l2', 'solver': 'liblinear'}\n",
      "\n",
      "Running GridSearchCV for Naive Bayes...\n",
      "Best parameters for Naive Bayes: {'alpha': 0.1, 'fit_prior': False}\n",
      "\n",
      "Running GridSearchCV for SVM...\n",
      "Best parameters for SVM: {'C': 1, 'loss': 'hinge', 'max_iter': 200000}\n"
     ]
    }
   ],
   "source": [
    "best_models_tfidf = {}\n",
    "\n",
    "# Grid search for each model\n",
    "for name, model in models.items():\n",
    "    print(f\"\\nRunning GridSearchCV for {name}...\")\n",
    "    grid_tfidf = GridSearchCV(model, param_grids[name], cv=5, scoring='f1_weighted', n_jobs=-1)\n",
    "    grid_tfidf.fit(X_train_tfidf, y_train)\n",
    "    best_models_tfidf[name] = grid_tfidf.best_estimator_\n",
    "    print(f\"Best parameters for {name}: {grid_tfidf.best_params_}\")"
   ]
  },
  {
   "cell_type": "code",
   "execution_count": 31,
   "id": "292490ab-d86a-4e08-afbe-bb29ca99361a",
   "metadata": {
    "colab": {
     "base_uri": "https://localhost:8080/"
    },
    "execution": {
     "iopub.execute_input": "2025-06-23T18:52:57.274944Z",
     "iopub.status.busy": "2025-06-23T18:52:57.274734Z",
     "iopub.status.idle": "2025-06-23T18:52:57.321966Z",
     "shell.execute_reply": "2025-06-23T18:52:57.321439Z",
     "shell.execute_reply.started": "2025-06-23T18:52:57.274927Z"
    },
    "id": "292490ab-d86a-4e08-afbe-bb29ca99361a",
    "outputId": "e8790dc2-738d-41b9-e1b2-09dd0dbc3012"
   },
   "outputs": [
    {
     "name": "stdout",
     "output_type": "stream",
     "text": [
      "\n",
      "Logistic Regression (TF-IDF):\n",
      "              precision    recall  f1-score   support\n",
      "\n",
      "    Negative       0.85      0.90      0.88      1889\n",
      "     Neutral       0.64      0.55      0.59       580\n",
      "    Positive       0.75      0.68      0.71       459\n",
      "\n",
      "    accuracy                           0.80      2928\n",
      "   macro avg       0.75      0.71      0.73      2928\n",
      "weighted avg       0.79      0.80      0.79      2928\n",
      "\n",
      "\n",
      "Naive Bayes (TF-IDF):\n",
      "              precision    recall  f1-score   support\n",
      "\n",
      "    Negative       0.89      0.79      0.84      1889\n",
      "     Neutral       0.51      0.60      0.55       580\n",
      "    Positive       0.60      0.74      0.66       459\n",
      "\n",
      "    accuracy                           0.74      2928\n",
      "   macro avg       0.67      0.71      0.68      2928\n",
      "weighted avg       0.77      0.74      0.75      2928\n",
      "\n",
      "\n",
      "SVM (TF-IDF):\n",
      "              precision    recall  f1-score   support\n",
      "\n",
      "    Negative       0.84      0.92      0.88      1889\n",
      "     Neutral       0.65      0.51      0.57       580\n",
      "    Positive       0.75      0.67      0.71       459\n",
      "\n",
      "    accuracy                           0.80      2928\n",
      "   macro avg       0.75      0.70      0.72      2928\n",
      "weighted avg       0.79      0.80      0.79      2928\n",
      "\n"
     ]
    }
   ],
   "source": [
    "for name, model in best_models_tfidf.items():\n",
    "    print(f\"\\n{name} (TF-IDF):\")\n",
    "    metrics = evaluate_model(model, X_test_tfidf, y_test, target_names)\n",
    "    base_results[f\"{name} (TF-IDF)\"] = metrics"
   ]
  },
  {
   "cell_type": "markdown",
   "id": "66801deb-e8da-4d0b-8046-71362834d904",
   "metadata": {
    "id": "66801deb-e8da-4d0b-8046-71362834d904"
   },
   "source": [
    "### 2.2.3 Evaluation on Bag-of-Words (BoW) Features\n",
    "\n",
    "In this subsection, we repeat the same training and evaluation procedure using the **Bag-of-Words (BoW)** feature representation instead of TF-IDF.\n",
    "\n",
    "We again apply **GridSearchCV** to optimize the hyperparameters of the baseline classifiers: **Logistic Regression**, **Multinomial Naive Bayes**, and **Support Vector Machine (SVM)**. Each model is trained on BoW-transformed features and evaluated on the same test set."
   ]
  },
  {
   "cell_type": "code",
   "execution_count": 32,
   "id": "3fac86eb-084b-4625-a860-327cb27c4450",
   "metadata": {
    "execution": {
     "iopub.execute_input": "2025-06-23T18:53:04.131261Z",
     "iopub.status.busy": "2025-06-23T18:53:04.130974Z",
     "iopub.status.idle": "2025-06-23T18:53:04.138127Z",
     "shell.execute_reply": "2025-06-23T18:53:04.137579Z",
     "shell.execute_reply.started": "2025-06-23T18:53:04.131242Z"
    },
    "id": "3fac86eb-084b-4625-a860-327cb27c4450"
   },
   "outputs": [],
   "source": [
    "X_train_bow, X_test_bow, y_train, y_test = train_test_split(X_bow, y, test_size=0.2, random_state=42)"
   ]
  },
  {
   "cell_type": "code",
   "execution_count": 33,
   "id": "972987d9-6c8c-478b-a8f1-842d648ca959",
   "metadata": {
    "colab": {
     "base_uri": "https://localhost:8080/"
    },
    "execution": {
     "iopub.execute_input": "2025-06-23T18:53:05.779402Z",
     "iopub.status.busy": "2025-06-23T18:53:05.779162Z",
     "iopub.status.idle": "2025-06-23T18:53:52.180828Z",
     "shell.execute_reply": "2025-06-23T18:53:52.180168Z",
     "shell.execute_reply.started": "2025-06-23T18:53:05.779387Z"
    },
    "id": "972987d9-6c8c-478b-a8f1-842d648ca959",
    "outputId": "f12b0a29-e9bd-4d01-f38e-5596b877d49f"
   },
   "outputs": [
    {
     "name": "stdout",
     "output_type": "stream",
     "text": [
      "\n",
      "Running GridSearchCV for Logistic Regression (BoW)...\n",
      "Best parameters for Logistic Regression (BoW): {'C': 1, 'max_iter': 2000, 'penalty': 'l1', 'solver': 'liblinear'}\n",
      "\n",
      "Running GridSearchCV for Naive Bayes (BoW)...\n",
      "Best parameters for Naive Bayes (BoW): {'alpha': 0.7, 'fit_prior': True}\n",
      "\n",
      "Running GridSearchCV for SVM (BoW)...\n",
      "Best parameters for SVM (BoW): {'C': 0.1, 'loss': 'squared_hinge', 'max_iter': 200000}\n"
     ]
    }
   ],
   "source": [
    "best_models_bow = {}\n",
    "\n",
    "# Grid search for each model\n",
    "for name, model in models.items():\n",
    "    print(f\"\\nRunning GridSearchCV for {name} (BoW)...\")\n",
    "    grid_bow = GridSearchCV(model, param_grids[name], cv=5, scoring='f1_weighted', n_jobs=-1)\n",
    "    grid_bow.fit(X_train_bow, y_train)\n",
    "    best_models_bow[name] = grid_bow.best_estimator_\n",
    "    print(f\"Best parameters for {name} (BoW): {grid_bow.best_params_}\")"
   ]
  },
  {
   "cell_type": "code",
   "execution_count": 34,
   "id": "032a5ba9-6fdd-4964-9383-9b11bb649985",
   "metadata": {
    "colab": {
     "base_uri": "https://localhost:8080/"
    },
    "execution": {
     "iopub.execute_input": "2025-06-23T18:53:52.182572Z",
     "iopub.status.busy": "2025-06-23T18:53:52.182048Z",
     "iopub.status.idle": "2025-06-23T18:53:52.225000Z",
     "shell.execute_reply": "2025-06-23T18:53:52.224292Z",
     "shell.execute_reply.started": "2025-06-23T18:53:52.182546Z"
    },
    "id": "032a5ba9-6fdd-4964-9383-9b11bb649985",
    "outputId": "7c8a7b4a-9656-4202-95d1-22929d7916ec"
   },
   "outputs": [
    {
     "name": "stdout",
     "output_type": "stream",
     "text": [
      "\n",
      "Logistic Regression (BoW Features):\n",
      "              precision    recall  f1-score   support\n",
      "\n",
      "    Negative       0.86      0.90      0.88      1889\n",
      "     Neutral       0.64      0.58      0.61       580\n",
      "    Positive       0.74      0.68      0.71       459\n",
      "\n",
      "    accuracy                           0.80      2928\n",
      "   macro avg       0.75      0.72      0.73      2928\n",
      "weighted avg       0.80      0.80      0.80      2928\n",
      "\n",
      "\n",
      "Naive Bayes (BoW Features):\n",
      "              precision    recall  f1-score   support\n",
      "\n",
      "    Negative       0.83      0.88      0.85      1889\n",
      "     Neutral       0.57      0.47      0.51       580\n",
      "    Positive       0.72      0.69      0.71       459\n",
      "\n",
      "    accuracy                           0.77      2928\n",
      "   macro avg       0.71      0.68      0.69      2928\n",
      "weighted avg       0.76      0.77      0.76      2928\n",
      "\n",
      "\n",
      "SVM (BoW Features):\n",
      "              precision    recall  f1-score   support\n",
      "\n",
      "    Negative       0.86      0.90      0.88      1889\n",
      "     Neutral       0.64      0.58      0.61       580\n",
      "    Positive       0.74      0.67      0.70       459\n",
      "\n",
      "    accuracy                           0.80      2928\n",
      "   macro avg       0.74      0.72      0.73      2928\n",
      "weighted avg       0.79      0.80      0.80      2928\n",
      "\n"
     ]
    }
   ],
   "source": [
    "# Evaluate best models on BoW test set\n",
    "for name, model in best_models_bow.items():\n",
    "    print(f\"\\n{name} (BoW Features):\")\n",
    "    metrics = evaluate_model(model, X_test_bow, y_test, target_names)\n",
    "    base_results[f\"{name} (BoW)\"] = metrics"
   ]
  },
  {
   "cell_type": "markdown",
   "id": "f40eba8c-8c3b-4d44-8871-71c662fae562",
   "metadata": {
    "id": "f40eba8c-8c3b-4d44-8871-71c662fae562"
   },
   "source": [
    "## 2.3 Results and Discussion\n",
    "\n",
    "In this section, we summarize and compare the performance of all baseline models trained on both TF-IDF and Bag-of-Words (BoW) features. The table below reports key evaluation metrics, including **accuracy**, **precision**, **recall**, and **F1-score**, averaged using weighted averages to account for class imbalance."
   ]
  },
  {
   "cell_type": "code",
   "execution_count": 35,
   "id": "3c14c144-b19d-4aa5-a3e6-a7eadd598ede",
   "metadata": {
    "colab": {
     "base_uri": "https://localhost:8080/",
     "height": 237
    },
    "execution": {
     "iopub.execute_input": "2025-06-23T18:53:52.226156Z",
     "iopub.status.busy": "2025-06-23T18:53:52.225943Z",
     "iopub.status.idle": "2025-06-23T18:53:52.286775Z",
     "shell.execute_reply": "2025-06-23T18:53:52.286174Z",
     "shell.execute_reply.started": "2025-06-23T18:53:52.226139Z"
    },
    "id": "3c14c144-b19d-4aa5-a3e6-a7eadd598ede",
    "outputId": "a62e131e-004d-4bf4-faa7-b223a36dd606"
   },
   "outputs": [
    {
     "data": {
      "text/html": [
       "<div>\n",
       "<style scoped>\n",
       "    .dataframe tbody tr th:only-of-type {\n",
       "        vertical-align: middle;\n",
       "    }\n",
       "\n",
       "    .dataframe tbody tr th {\n",
       "        vertical-align: top;\n",
       "    }\n",
       "\n",
       "    .dataframe thead th {\n",
       "        text-align: right;\n",
       "    }\n",
       "</style>\n",
       "<table border=\"1\" class=\"dataframe\">\n",
       "  <thead>\n",
       "    <tr style=\"text-align: right;\">\n",
       "      <th></th>\n",
       "      <th>Model</th>\n",
       "      <th>Accuracy</th>\n",
       "      <th>F1-Score</th>\n",
       "    </tr>\n",
       "  </thead>\n",
       "  <tbody>\n",
       "    <tr>\n",
       "      <th>0</th>\n",
       "      <td>Logistic Regression + BoW</td>\n",
       "      <td>0.8029</td>\n",
       "      <td>0.7996</td>\n",
       "    </tr>\n",
       "    <tr>\n",
       "      <th>1</th>\n",
       "      <td>SVM + BoW</td>\n",
       "      <td>0.7992</td>\n",
       "      <td>0.7957</td>\n",
       "    </tr>\n",
       "    <tr>\n",
       "      <th>2</th>\n",
       "      <td>Logistic Regression + TF-IDF</td>\n",
       "      <td>0.7999</td>\n",
       "      <td>0.7948</td>\n",
       "    </tr>\n",
       "    <tr>\n",
       "      <th>3</th>\n",
       "      <td>SVM + TF-IDF</td>\n",
       "      <td>0.7985</td>\n",
       "      <td>0.7905</td>\n",
       "    </tr>\n",
       "    <tr>\n",
       "      <th>4</th>\n",
       "      <td>Naive Bayes + BoW</td>\n",
       "      <td>0.7691</td>\n",
       "      <td>0.7628</td>\n",
       "    </tr>\n",
       "    <tr>\n",
       "      <th>5</th>\n",
       "      <td>Naive Bayes + TF-IDF</td>\n",
       "      <td>0.7439</td>\n",
       "      <td>0.7522</td>\n",
       "    </tr>\n",
       "  </tbody>\n",
       "</table>\n",
       "</div>"
      ],
      "text/plain": [
       "                          Model  Accuracy  F1-Score\n",
       "0     Logistic Regression + BoW    0.8029    0.7996\n",
       "1                     SVM + BoW    0.7992    0.7957\n",
       "2  Logistic Regression + TF-IDF    0.7999    0.7948\n",
       "3                  SVM + TF-IDF    0.7985    0.7905\n",
       "4             Naive Bayes + BoW    0.7691    0.7628\n",
       "5          Naive Bayes + TF-IDF    0.7439    0.7522"
      ]
     },
     "execution_count": 35,
     "metadata": {},
     "output_type": "execute_result"
    }
   ],
   "source": [
    "base_results = []\n",
    "\n",
    "# TF-IDF\n",
    "for name, model in best_models_tfidf.items():\n",
    "    y_pred = model.predict(X_test_tfidf)\n",
    "    report = classification_report(y_test, y_pred, output_dict=True, zero_division=0)\n",
    "    base_results.append({\n",
    "        'Model': name + ' + TF-IDF',\n",
    "        'Accuracy': report['accuracy'],\n",
    "        'F1-Score': report['weighted avg']['f1-score']\n",
    "    })\n",
    "\n",
    "# BoW\n",
    "for name, model in best_models_bow.items():\n",
    "    y_pred = model.predict(X_test_bow)\n",
    "    report = classification_report(y_test, y_pred, output_dict=True, zero_division=0)\n",
    "    base_results.append({\n",
    "        'Model': name + \" + BoW\",\n",
    "        'Accuracy': report['accuracy'],\n",
    "        'F1-Score': report['weighted avg']['f1-score']\n",
    "    })\n",
    "\n",
    "# DataFrame creating\n",
    "base_results = pd.DataFrame(base_results)\n",
    "base_results = base_results.sort_values(by=['F1-Score'], ascending=False).reset_index(drop=True)\n",
    "base_results[['Accuracy', 'F1-Score']] = base_results[['Accuracy', 'F1-Score']].round(4)\n",
    "base_results"
   ]
  },
  {
   "cell_type": "markdown",
   "id": "9bb71b29-3659-4364-bdf2-80481a50019f",
   "metadata": {
    "id": "9bb71b29-3659-4364-bdf2-80481a50019f"
   },
   "source": [
    "The results reveal the influence of feature representation on model effectiveness. In general, models trained on **BoW features** outperform their TF-IDF based counterparts. This suggests that weighting terms based on their importance in the corpus (as done in TF-IDF) leads to more informative features for sentiment classification.\n",
    "\n",
    "Among the models, the **Logistic Regression** consistently achieves the best performance, followed closely by **Support Vector Machine (SVM)**.\n",
    "\n",
    "**Multinomial Naive Bayes**, while efficient, lags behind in both feature settings, particularly in handling the neutral class.\n",
    "\n",
    "These findings establish a strong baseline for future experiments with advanced deep learning models."
   ]
  },
  {
   "cell_type": "markdown",
   "id": "4e8e2373-29fa-456c-bc61-cd1acea7703c",
   "metadata": {
    "id": "4e8e2373-29fa-456c-bc61-cd1acea7703c"
   },
   "source": [
    "# 3. Intermediate Models: Pretrained Word Embeddings + Neural Networks\n",
    "\n",
    "In this section, we go beyond classical machine learning approaches and explore deep learning models that leverage **pretrained word embeddings**. Unlike sparse representations such as Bag-of-Words or TF-IDF, word embeddings provide dense vector representations that capture semantic relationships between words.\n",
    "\n",
    "We evaluate the performance of several recurrent neural network (RNN)-based architectures using **GloVe** and **FastText** embeddings as input features.\n",
    "\n",
    "The models tested include: **Vanilla RNN**, **GRU**, **LSTM** and **BiLSTM**\n",
    "\n",
    "Each model is evaluated using the same train-test split for consistency. We use accuracy and weighted F1-score to compare performance across architectures."
   ]
  },
  {
   "cell_type": "markdown",
   "id": "4b71abb3-4585-4bc4-86de-5d33657091bc",
   "metadata": {
    "id": "4b71abb3-4585-4bc4-86de-5d33657091bc"
   },
   "source": [
    "## 3.1 Loading Pretrained Word Embeddings\n",
    "\n",
    "To make use of semantic word representations, we load two pretrained embedding sources:\n",
    "\n",
    "- **GloVe Twitter (200d):** trained on 2 billion tweets, capturing informal language, hashtags, and emojis.\n",
    "- **FastText Wiki-News (300d):** includes subword information and handles rare and misspelled words effectively.\n",
    "\n",
    "We build our vocabulary from the training corpus and create embedding matrices aligned with it.  \n",
    "The embeddings are later used in PyTorch's `Embedding.from_pretrained` layer.\n"
   ]
  },
  {
   "cell_type": "markdown",
   "id": "cec83724-9a8d-47fd-8be1-f28419372c69",
   "metadata": {
    "id": "cec83724-9a8d-47fd-8be1-f28419372c69"
   },
   "source": [
    "### 3.1.1 Tokenization and Vocabulary Construction\n",
    "\n",
    "We begin by tokenizing each tweet and constructing a vocabulary.\n"
   ]
  },
  {
   "cell_type": "code",
   "execution_count": 36,
   "id": "f3ca9636-8e9f-44ce-92b7-4402d8b74d8d",
   "metadata": {
    "execution": {
     "iopub.execute_input": "2025-06-23T18:54:18.455560Z",
     "iopub.status.busy": "2025-06-23T18:54:18.455261Z",
     "iopub.status.idle": "2025-06-23T18:54:19.366785Z",
     "shell.execute_reply": "2025-06-23T18:54:19.366244Z",
     "shell.execute_reply.started": "2025-06-23T18:54:18.455541Z"
    },
    "id": "f3ca9636-8e9f-44ce-92b7-4402d8b74d8d"
   },
   "outputs": [],
   "source": [
    "from collections import Counter\n",
    "\n",
    "# Tokenization\n",
    "tokenized_texts = [nltk.word_tokenize(text) for text in df_processed['clean_text']]\n",
    "\n",
    "# Token frequiences\n",
    "token_counts = Counter(token for sentence in tokenized_texts for token in sentence)\n",
    "\n",
    "# special tokens\n",
    "special_tokens = ['<pad>', '<unk>']\n",
    "vocab = {token: idx for idx, token in enumerate(special_tokens)}\n",
    "for token in token_counts:\n",
    "    if token not in vocab:\n",
    "        vocab[token] = len(vocab)\n",
    "\n",
    "unk_index = vocab['<unk>']\n",
    "pad_index = vocab['<pad>']\n",
    "\n",
    "# Converting tokens to indices\n",
    "indexed_sequences = [\n",
    "    [vocab.get(token, unk_index) for token in tokens]\n",
    "    for tokens in tokenized_texts\n",
    "]"
   ]
  },
  {
   "cell_type": "markdown",
   "id": "fb5bd24d-38dd-4380-bf47-6a59116a8c0a",
   "metadata": {
    "id": "fb5bd24d-38dd-4380-bf47-6a59116a8c0a"
   },
   "source": [
    "### 3.1.2 Sequence Padding\n",
    "\n",
    "Since tweets have variable lengths, we pad all sequences to the length of the longest one.  \n",
    "We use PyTorch's `pad_sequence` for this.\n"
   ]
  },
  {
   "cell_type": "code",
   "execution_count": 37,
   "id": "sbi5YLzjGNc1",
   "metadata": {
    "execution": {
     "iopub.execute_input": "2025-06-23T18:54:20.515611Z",
     "iopub.status.busy": "2025-06-23T18:54:20.515296Z",
     "iopub.status.idle": "2025-06-23T18:54:30.175561Z",
     "shell.execute_reply": "2025-06-23T18:54:30.174742Z",
     "shell.execute_reply.started": "2025-06-23T18:54:20.515593Z"
    },
    "id": "sbi5YLzjGNc1"
   },
   "outputs": [],
   "source": [
    "import torch\n",
    "from torch.nn.utils.rnn import pad_sequence\n",
    "\n",
    "tensor_sequences = [torch.tensor(seq) for seq in indexed_sequences]\n",
    "padded_sequences = pad_sequence(tensor_sequences, batch_first=True, padding_value=pad_index)\n",
    "label_tensor = torch.tensor(df_processed['label'].values, dtype=torch.long)"
   ]
  },
  {
   "cell_type": "markdown",
   "id": "nltDIlTygPlr",
   "metadata": {
    "id": "nltDIlTygPlr"
   },
   "source": [
    "### 3.1.3 Loading GloVe Twitter Embeddings\n",
    "\n",
    "We load GloVe Twitter embeddings (200d) and create an embedding matrix aligned with our vocabulary.  \n",
    "Words not present in the GloVe file are initialized with small random vectors.\n"
   ]
  },
  {
   "cell_type": "code",
   "execution_count": 38,
   "id": "28dc280f-be55-4c8f-861c-60992e2d97aa",
   "metadata": {
    "execution": {
     "iopub.execute_input": "2025-06-23T18:54:30.177123Z",
     "iopub.status.busy": "2025-06-23T18:54:30.176709Z",
     "iopub.status.idle": "2025-06-23T18:54:30.182755Z",
     "shell.execute_reply": "2025-06-23T18:54:30.182084Z",
     "shell.execute_reply.started": "2025-06-23T18:54:30.177097Z"
    },
    "id": "28dc280f-be55-4c8f-861c-60992e2d97aa"
   },
   "outputs": [],
   "source": [
    "def load_glove_embedding(path, vocab, embedding_dim=200):\n",
    "    embeddings_index = {}\n",
    "    with open(path, 'r', encoding='utf8') as f:\n",
    "        for line in f:\n",
    "            values = line.strip().split()\n",
    "            word = values[0]\n",
    "            vec = np.asarray(values[1:], dtype='float32')\n",
    "            embeddings_index[word] = vec\n",
    "\n",
    "    print(f\"Loaded {len(embeddings_index)} word vectors from GloVe.\")\n",
    "\n",
    "    embedding_matrix = np.zeros((len(vocab), embedding_dim))\n",
    "\n",
    "    for word, idx in vocab.items():\n",
    "        if word in embeddings_index:\n",
    "            embedding_matrix[idx] = embeddings_index[word]\n",
    "        else:\n",
    "            embedding_matrix[idx] = np.random.normal(scale=0.6, size=(embedding_dim,))\n",
    "\n",
    "    return torch.tensor(embedding_matrix, dtype=torch.float)\n"
   ]
  },
  {
   "cell_type": "code",
   "execution_count": 39,
   "id": "Ud9ln6nKgk4_",
   "metadata": {
    "colab": {
     "base_uri": "https://localhost:8080/"
    },
    "execution": {
     "iopub.execute_input": "2025-06-23T18:54:35.122202Z",
     "iopub.status.busy": "2025-06-23T18:54:35.121837Z",
     "iopub.status.idle": "2025-06-23T18:55:40.467898Z",
     "shell.execute_reply": "2025-06-23T18:55:40.467110Z",
     "shell.execute_reply.started": "2025-06-23T18:54:35.122173Z"
    },
    "id": "Ud9ln6nKgk4_",
    "outputId": "93c7c40a-9052-4fe7-885b-c4b738905fb6"
   },
   "outputs": [
    {
     "name": "stdout",
     "output_type": "stream",
     "text": [
      "Loaded 1193514 word vectors from GloVe.\n"
     ]
    }
   ],
   "source": [
    "glove_path = \"/kaggle/input/glovetwitter27b100dtxt/glove.twitter.27B.200d.txt\"\n",
    "embedding_matrix_glove = load_glove_embedding(glove_path, vocab, embedding_dim=200)"
   ]
  },
  {
   "cell_type": "markdown",
   "id": "kJfAKZU-g5O1",
   "metadata": {
    "id": "kJfAKZU-g5O1"
   },
   "source": [
    "### 3.1.4 Loading FastText Wiki-News Embeddings\n",
    "\n",
    "We now load pretrained word vectors from **FastText Wiki-News**, a 300-dimensional embedding trained on English Wikipedia using subword information.  \n",
    "FastText is especially useful for handling rare words, misspellings, and morphologically rich forms due to its use of character-level n-grams.\n",
    "\n",
    "We align the pretrained vectors with our vocabulary, just like we did for GloVe.\n",
    "Words not found in the embedding file are initialized with small random vectors.\n"
   ]
  },
  {
   "cell_type": "code",
   "execution_count": 41,
   "id": "VBr_BhrggrKc",
   "metadata": {
    "execution": {
     "iopub.execute_input": "2025-06-23T18:55:40.554798Z",
     "iopub.status.busy": "2025-06-23T18:55:40.554636Z",
     "iopub.status.idle": "2025-06-23T18:55:40.579650Z",
     "shell.execute_reply": "2025-06-23T18:55:40.578871Z",
     "shell.execute_reply.started": "2025-06-23T18:55:40.554785Z"
    },
    "id": "VBr_BhrggrKc"
   },
   "outputs": [],
   "source": [
    "def load_fasttext_embedding(path, vocab, embedding_dim=300):\n",
    "    embeddings_index = {}\n",
    "\n",
    "    with open(path, 'r', encoding='utf8', newline='\\n', errors='ignore') as f:\n",
    "        next(f)\n",
    "        for line in f:\n",
    "            values = line.rstrip().split(' ')\n",
    "            word = values[0]\n",
    "            try:\n",
    "                vector = np.asarray(values[1:], dtype='float32')\n",
    "                embeddings_index[word] = vector\n",
    "            except ValueError:\n",
    "                continue\n",
    "\n",
    "    print(f\"Loaded {len(embeddings_index)} word vectors from FastText.\")\n",
    "\n",
    "    # Build embedding matrix\n",
    "    embedding_matrix = np.zeros((len(vocab), embedding_dim))\n",
    "    for word, idx in vocab.items():\n",
    "        if word in embeddings_index:\n",
    "            embedding_matrix[idx] = embeddings_index[word]\n",
    "        else:\n",
    "            embedding_matrix[idx] = np.random.normal(scale=0.6, size=(embedding_dim,))\n",
    "\n",
    "    return torch.tensor(embedding_matrix, dtype=torch.float)"
   ]
  },
  {
   "cell_type": "code",
   "execution_count": 42,
   "id": "cGdGhzMohGrF",
   "metadata": {
    "colab": {
     "base_uri": "https://localhost:8080/"
    },
    "execution": {
     "iopub.execute_input": "2025-06-23T18:55:47.008605Z",
     "iopub.status.busy": "2025-06-23T18:55:47.008322Z",
     "iopub.status.idle": "2025-06-23T18:56:51.267745Z",
     "shell.execute_reply": "2025-06-23T18:56:51.267087Z",
     "shell.execute_reply.started": "2025-06-23T18:55:47.008584Z"
    },
    "id": "cGdGhzMohGrF",
    "outputId": "9f966810-f890-4bbe-fe87-18535e7dfdc7"
   },
   "outputs": [
    {
     "name": "stdout",
     "output_type": "stream",
     "text": [
      "Loaded 999994 word vectors from FastText.\n"
     ]
    }
   ],
   "source": [
    "fasttext_path = \"/kaggle/input/fasttext/wiki-news-300d-1M-subword.vec\"\n",
    "embedding_matrix_fasttext = load_fasttext_embedding(fasttext_path, vocab, embedding_dim=300)"
   ]
  },
  {
   "cell_type": "markdown",
   "id": "sLWx-rieCmmi",
   "metadata": {
    "id": "sLWx-rieCmmi"
   },
   "source": [
    "## 3.2 Dataset and Model Pipeline\n",
    "\n",
    "To support deep learning models using pretrained word embeddings, we define a consistent data pipeline and training framework. This includes dataset preparation compatible with PyTorch models and utility functions for training, evaluation, and comparison."
   ]
  },
  {
   "cell_type": "markdown",
   "id": "hBYYz5A2CsHS",
   "metadata": {
    "id": "hBYYz5A2CsHS"
   },
   "source": [
    "### 3.2.1 Dataset Preparation\n",
    "\n",
    "We define a custom dataset class `TweetDataset` that stores preprocessed and padded tweet sequences along with their corresponding sentiment labels. This class enables compatibility with PyTorch `DataLoader`, allowing efficient batch processing.\n",
    "\n",
    "We split the dataset into training and test subsets using stratified sampling to ensure balanced class distribution across splits. The resulting `train_loader` and `test_loader` are used in all subsequent model evaluations."
   ]
  },
  {
   "cell_type": "code",
   "execution_count": 191,
   "id": "GOXylLDKCu7U",
   "metadata": {
    "execution": {
     "iopub.execute_input": "2025-06-23T21:07:06.979230Z",
     "iopub.status.busy": "2025-06-23T21:07:06.978941Z",
     "iopub.status.idle": "2025-06-23T21:07:06.984123Z",
     "shell.execute_reply": "2025-06-23T21:07:06.983311Z",
     "shell.execute_reply.started": "2025-06-23T21:07:06.979209Z"
    },
    "id": "GOXylLDKCu7U"
   },
   "outputs": [],
   "source": [
    "from torch.utils.data import Dataset, DataLoader\n",
    "\n",
    "class TweetDataset(torch.utils.data.Dataset):\n",
    "    def __init__(self, sequences, labels):\n",
    "        self.sequences = sequences\n",
    "        self.labels = labels\n",
    "\n",
    "    def __len__(self):\n",
    "        return len(self.sequences)\n",
    "\n",
    "    def __getitem__(self, idx):\n",
    "        return self.sequences[idx], self.labels[idx]"
   ]
  },
  {
   "cell_type": "code",
   "execution_count": 192,
   "id": "ZArLlIYPCwcM",
   "metadata": {
    "execution": {
     "iopub.execute_input": "2025-06-23T21:07:08.433689Z",
     "iopub.status.busy": "2025-06-23T21:07:08.433424Z",
     "iopub.status.idle": "2025-06-23T21:07:08.449573Z",
     "shell.execute_reply": "2025-06-23T21:07:08.448951Z",
     "shell.execute_reply.started": "2025-06-23T21:07:08.433671Z"
    },
    "id": "ZArLlIYPCwcM"
   },
   "outputs": [],
   "source": [
    "labels_np = df_processed['label'].values\n",
    "\n",
    "# Convert padded_sequences and labels to tensors\n",
    "label_tensor = torch.tensor(labels_np, dtype=torch.long)\n",
    "sequence_tensors = padded_sequences\n",
    "\n",
    "dataset = TweetDataset(sequence_tensors, label_tensor)\n",
    "indices = list(range(len(dataset)))\n",
    "\n",
    "train_idx, test_idx = train_test_split(indices, test_size=0.2, stratify=labels_np, random_state=42)\n",
    "\n",
    "# Split the Dataset\n",
    "train_dataset = torch.utils.data.Subset(dataset, train_idx)\n",
    "test_dataset = torch.utils.data.Subset(dataset, test_idx)\n",
    "\n",
    "# DataLoaders\n",
    "train_loader = DataLoader(train_dataset, batch_size=64, shuffle=True)\n",
    "test_loader = DataLoader(test_dataset, batch_size=64)"
   ]
  },
  {
   "cell_type": "markdown",
   "id": "lUM5kK_8DKn6",
   "metadata": {
    "id": "lUM5kK_8DKn6"
   },
   "source": [
    "### 3.2.2 Training and Evaluation Utilities\n",
    "\n",
    "To streamline experimentation and ensure uniformity across models, we define reusable utility functions for model training and evaluation:\n",
    "\n",
    "- **`train_model(...)`**  \n",
    "  Trains a model over several epochs using `CrossEntropyLoss` and the `Adam` optimizer. The function tracks loss and accuracy at each epoch and trains the model on GPU if available.\n",
    "  \n",
    "- **`evaluate_model(...)`**  \n",
    "  Evaluates a trained model on the test set, computing and returning the accuracy and weighted F1-score. The function disables gradient computation during inference to improve efficiency.\n"
   ]
  },
  {
   "cell_type": "code",
   "execution_count": 193,
   "id": "1-S1FUTiDP01",
   "metadata": {
    "execution": {
     "iopub.execute_input": "2025-06-23T21:07:12.940073Z",
     "iopub.status.busy": "2025-06-23T21:07:12.939417Z",
     "iopub.status.idle": "2025-06-23T21:07:12.948630Z",
     "shell.execute_reply": "2025-06-23T21:07:12.947875Z",
     "shell.execute_reply.started": "2025-06-23T21:07:12.940029Z"
    },
    "id": "1-S1FUTiDP01"
   },
   "outputs": [],
   "source": [
    "import copy\n",
    "from tqdm import tqdm\n",
    "\n",
    "def train_model(model, criterion, train_loader, val_loader=None, num_epochs=10, lr=5e-4, device='cuda', patience=4, monitor='val_f1'):\n",
    "    model.to(device)\n",
    "    optimizer = torch.optim.Adam(model.parameters(), lr=lr)\n",
    "\n",
    "    history = {\n",
    "        'train_loss': [],\n",
    "        'val_loss': [],\n",
    "        'val_acc': [],\n",
    "        'val_f1': []\n",
    "    }\n",
    "\n",
    "    best_f1 = 0\n",
    "    epochs_no_improve = 0\n",
    "    best_model_state = None\n",
    "\n",
    "    for epoch in range(num_epochs):\n",
    "        model.train()\n",
    "        total_loss = 0\n",
    "\n",
    "        for X_batch, y_batch in tqdm(train_loader, desc=f\"Epoch {epoch + 1}/{num_epochs}\"):\n",
    "            X_batch, y_batch = X_batch.to(device), y_batch.to(device)\n",
    "\n",
    "            optimizer.zero_grad()\n",
    "            output = model(X_batch)\n",
    "            loss = criterion(output, y_batch)\n",
    "            loss.backward()\n",
    "            optimizer.step()\n",
    "\n",
    "            total_loss += loss.item()\n",
    "\n",
    "        train_loss = total_loss / len(train_loader)\n",
    "        print(f\"\\nEpoch {epoch + 1} complete. Train Loss: {train_loss:.4f}\")\n",
    "        history['train_loss'].append(train_loss)\n",
    "\n",
    "        # Validation\n",
    "        if val_loader is not None:\n",
    "            val_loss, val_acc, val_f1 = evaluate_model(model, criterion, val_loader, device)\n",
    "            history['val_loss'].append(val_loss)\n",
    "            history['val_acc'].append(val_acc)\n",
    "            history['val_f1'].append(val_f1)\n",
    "\n",
    "            print(f\"→ Eval Loss: {val_loss:.4f}, Accuracy: {val_acc:.4f}, F1: {val_f1:.4f}\")\n",
    "\n",
    "            if val_f1 > best_f1:\n",
    "                best_f1 = val_f1\n",
    "                best_model_state = copy.deepcopy(model.state_dict())\n",
    "                epochs_no_improve = 0\n",
    "                print(\"Improvement found, saving model.\")\n",
    "            else:\n",
    "                epochs_no_improve += 1\n",
    "                print(f\"EarlyStopping counter: {epochs_no_improve}/{patience}\")\n",
    "\n",
    "                if epochs_no_improve >= patience:\n",
    "                    print(\"Early stopping triggered.\")\n",
    "                    break\n",
    "\n",
    "    # Load best model before returning\n",
    "    if best_model_state:\n",
    "        model.load_state_dict(best_model_state)\n",
    "\n",
    "    return model, history\n"
   ]
  },
  {
   "cell_type": "code",
   "execution_count": 194,
   "id": "iK5i1KIbDRv_",
   "metadata": {
    "execution": {
     "iopub.execute_input": "2025-06-23T21:07:14.102847Z",
     "iopub.status.busy": "2025-06-23T21:07:14.102225Z",
     "iopub.status.idle": "2025-06-23T21:07:14.108547Z",
     "shell.execute_reply": "2025-06-23T21:07:14.107610Z",
     "shell.execute_reply.started": "2025-06-23T21:07:14.102822Z"
    },
    "id": "iK5i1KIbDRv_"
   },
   "outputs": [],
   "source": [
    "from sklearn.metrics import accuracy_score, f1_score\n",
    "\n",
    "def evaluate_model(model, criterion, val_loader, device):\n",
    "    model.eval()\n",
    "    y_true, y_pred = [], []\n",
    "    total_loss = 0\n",
    "\n",
    "    with torch.no_grad():\n",
    "        for X_batch, y_batch in val_loader:\n",
    "            X_batch = X_batch.to(device)\n",
    "            y_batch = y_batch.to(device)\n",
    "\n",
    "            output = model(X_batch)\n",
    "            loss = criterion(output, y_batch)\n",
    "            total_loss += loss.item()\n",
    "\n",
    "            preds = torch.argmax(output, dim=1)\n",
    "            y_true.extend(y_batch.detach().cpu().tolist())\n",
    "            y_pred.extend(preds.detach().cpu().tolist())\n",
    "\n",
    "    avg_loss = total_loss / len(val_loader)\n",
    "    acc = accuracy_score(y_true, y_pred)\n",
    "    f1 = f1_score(y_true, y_pred, average='weighted')\n",
    "    return avg_loss, acc, f1"
   ]
  },
  {
   "cell_type": "code",
   "execution_count": 195,
   "id": "LT5szEMt8-gH",
   "metadata": {
    "execution": {
     "iopub.execute_input": "2025-06-23T21:07:15.176061Z",
     "iopub.status.busy": "2025-06-23T21:07:15.175330Z",
     "iopub.status.idle": "2025-06-23T21:07:15.181002Z",
     "shell.execute_reply": "2025-06-23T21:07:15.180253Z",
     "shell.execute_reply.started": "2025-06-23T21:07:15.176025Z"
    },
    "id": "LT5szEMt8-gH"
   },
   "outputs": [],
   "source": [
    "def train_and_evaluate(name, model_class, embedding_matrix, train_loader, val_loader, freeze=False, epochs=40):\n",
    "    device = torch.device('cuda' if torch.cuda.is_available() else 'cpu')\n",
    "    embedding_matrix = embedding_matrix.to(device)\n",
    "\n",
    "    model = model_class(embedding_matrix=embedding_matrix, freeze=freeze)\n",
    "    criterion = nn.CrossEntropyLoss()\n",
    "\n",
    "    trained_model, history = train_model(model, criterion, train_loader, val_loader, num_epochs=epochs, device=device)\n",
    "\n",
    "    _, acc, f1 = evaluate_model(trained_model, criterion, val_loader, device=device)\n",
    "    print(f\"{name} Final Results:\\nAccuracy: {acc:.4f}, F1-Score: {f1:.4f}\")\n",
    "    \n",
    "    result = {\"Accuracy\": acc, \"F1-Score\": f1}\n",
    "    \n",
    "    return name, result, history"
   ]
  },
  {
   "cell_type": "markdown",
   "id": "5wHS0-TPD1RW",
   "metadata": {
    "id": "5wHS0-TPD1RW"
   },
   "source": [
    "## 3.3 Model Architectures\n",
    "\n",
    "In this section, we describe the core deep learning models used for multi-class sentiment classification. All models are implemented in PyTorch and share a common design pattern: an embedding layer initialized with pretrained vectors, followed by a sequence encoder and a classification head.\n",
    "\n",
    "Each architecture receives tokenized and padded tweet sequences as input, and outputs a probability distribution over sentiment classes."
   ]
  },
  {
   "cell_type": "markdown",
   "id": "rgTCPuW3I_2O",
   "metadata": {
    "id": "rgTCPuW3I_2O"
   },
   "source": [
    "### 3.3.1 Vanilla RNN\n",
    "\n",
    "The simplest architecture is a unidirectional Recurrent Neural Network (RNN), which processes the input sequence token by token. The hidden states are aggregated using max pooling, and the result is passed to a feedforward classifier.\n",
    "\n",
    "**Key characteristics:**\n",
    "- Lightweight and easy to train\n",
    "- Limited ability to capture long-term dependencies\n",
    "\n",
    "**Structure:**\n",
    "\n",
    "Embedding → RNN → MaxPooling → Dense → ReLU → Dropout → Output"
   ]
  },
  {
   "cell_type": "code",
   "execution_count": 196,
   "id": "jutd_gVSjohT",
   "metadata": {
    "execution": {
     "iopub.execute_input": "2025-06-23T21:07:17.751334Z",
     "iopub.status.busy": "2025-06-23T21:07:17.750787Z",
     "iopub.status.idle": "2025-06-23T21:07:17.756840Z",
     "shell.execute_reply": "2025-06-23T21:07:17.756083Z",
     "shell.execute_reply.started": "2025-06-23T21:07:17.751310Z"
    },
    "id": "jutd_gVSjohT"
   },
   "outputs": [],
   "source": [
    "import torch.nn as nn\n",
    "import torch.nn.functional as F\n",
    "\n",
    "class RNNClassifier(nn.Module):\n",
    "    def __init__(self, embedding_matrix, hidden_size=128, num_classes=3, freeze=False):\n",
    "        super(RNNClassifier, self).__init__()\n",
    "        vocab_size, emb_dim = embedding_matrix.shape\n",
    "\n",
    "        self.embedding = nn.Embedding.from_pretrained(embedding_matrix, freeze=freeze)\n",
    "        self.rnn = nn.RNN(input_size=emb_dim, hidden_size=hidden_size, batch_first=True)\n",
    "        self.head = nn.Linear(hidden_size, num_classes)  # FC\n",
    "\n",
    "    def forward(self, x):\n",
    "        x = self.embedding(x)              # (batch_size, seq_len) → (batch_size, seq_len, emb_dim)\n",
    "        _, hidden = self.rnn(x)            # hidden: (1, batch_size, hidden_dim)\n",
    "        out = hidden.squeeze(0)            # (batch_size, hidden_dim)\n",
    "        return self.head(out)              # (batch_size, num_classes)\n"
   ]
  },
  {
   "cell_type": "markdown",
   "id": "tg_m27xRO-l8",
   "metadata": {
    "id": "tg_m27xRO-l8"
   },
   "source": [
    "### 3.3.2 GRU\n",
    "\n",
    "Gated Recurrent Units (GRUs) are an efficient alternative to standard RNNs and LSTMs. They incorporate gating mechanisms to better control the flow of information without the complexity of full LSTM cells.\n",
    "\n",
    "**Key characteristics:**\n",
    "- Faster and simpler than LSTM\n",
    "- Capable of learning long-term dependencies\n",
    "\n",
    "**Structure:**\n",
    "Embedding → GRU → Final Hidden State → Dense → ReLU → Dropout → Output"
   ]
  },
  {
   "cell_type": "code",
   "execution_count": 197,
   "id": "MMWJlEvTlBvf",
   "metadata": {
    "execution": {
     "iopub.execute_input": "2025-06-23T21:07:18.131711Z",
     "iopub.status.busy": "2025-06-23T21:07:18.131478Z",
     "iopub.status.idle": "2025-06-23T21:07:18.137268Z",
     "shell.execute_reply": "2025-06-23T21:07:18.136503Z",
     "shell.execute_reply.started": "2025-06-23T21:07:18.131695Z"
    },
    "id": "MMWJlEvTlBvf"
   },
   "outputs": [],
   "source": [
    "class GRUClassifier(nn.Module):\n",
    "    def __init__(self, embedding_matrix, hidden_size=128, num_classes=3, freeze=False):\n",
    "        super(GRUClassifier, self).__init__()\n",
    "        vocab_size, embedding_dim = embedding_matrix.shape\n",
    "\n",
    "        self.embedding = nn.Embedding.from_pretrained(embedding_matrix, freeze=freeze)\n",
    "        self.gru = nn.GRU(input_size=embedding_dim, hidden_size=hidden_size, batch_first=True)\n",
    "        self.head = nn.Linear(hidden_size, num_classes)  # FC\n",
    "\n",
    "    def forward(self, x):\n",
    "        embedded = self.embedding(x)              # (batch_size, seq_len, emb_dim)\n",
    "        _, hidden = self.gru(embedded)            # hidden: (1, batch_size, hidden_dim)\n",
    "        out = hidden.squeeze(0)                   # (batch_size, hidden_dim)\n",
    "        return self.head(out)                     # (batch_size, num_classes)"
   ]
  },
  {
   "cell_type": "markdown",
   "id": "jHiJzMuUPJCw",
   "metadata": {
    "id": "jHiJzMuUPJCw"
   },
   "source": [
    "### 3.3.3 BiLSTM\n",
    "\n",
    "The Bidirectional LSTM processes the sequence in both forward and backward directions, allowing the model to capture contextual information from the entire sentence. The final hidden states from both directions are concatenated before classification.\n",
    "\n",
    "**Key characteristics:**\n",
    "- Access to both past and future context\n",
    "- Effective for text sequences with non-local dependencies\n",
    "\n",
    "**Structure:**\n",
    "Embedding → BiLSTM → [Forward + Backward States] → Dense → ReLU → Dropout → Output"
   ]
  },
  {
   "cell_type": "code",
   "execution_count": 198,
   "id": "hssQeq36POHD",
   "metadata": {
    "execution": {
     "iopub.execute_input": "2025-06-23T21:07:19.475236Z",
     "iopub.status.busy": "2025-06-23T21:07:19.474542Z",
     "iopub.status.idle": "2025-06-23T21:07:19.480708Z",
     "shell.execute_reply": "2025-06-23T21:07:19.479964Z",
     "shell.execute_reply.started": "2025-06-23T21:07:19.475211Z"
    },
    "id": "hssQeq36POHD"
   },
   "outputs": [],
   "source": [
    "class BiLSTMClassifier(nn.Module):\n",
    "    def __init__(self, embedding_matrix, hidden_size=128, num_classes=3, freeze=False):\n",
    "        super(BiLSTMClassifier, self).__init__()\n",
    "        vocab_size, embedding_dim = embedding_matrix.shape\n",
    "\n",
    "        self.embedding = nn.Embedding.from_pretrained(embedding_matrix, freeze=freeze)\n",
    "        self.lstm = nn.LSTM(input_size=embedding_dim, hidden_size=hidden_size, batch_first=True, bidirectional=True)\n",
    "        self.head = nn.Linear(hidden_size * 2, num_classes)       # FC\n",
    "\n",
    "    def forward(self, x):\n",
    "        embedded = self.embedding(x)                           # (batch_size, seq_len) → (batch_size, seq_len, emb_dim)\n",
    "        _, (hidden, _) = self.lstm(embedded)                   # hidden: (2, batch_size, hidden_size)\n",
    "        hidden_cat = torch.cat((hidden[0], hidden[1]), dim=1)  # (batch_size, hidden_size * 2)\n",
    "        return self.head(hidden_cat)                           # (batch_size, num_classes)"
   ]
  },
  {
   "cell_type": "markdown",
   "id": "y4a_8QAjPOQ6",
   "metadata": {
    "id": "y4a_8QAjPOQ6"
   },
   "source": [
    "### 3.3.4 BiLSTM with Attention\n",
    "\n",
    "This model builds on BiLSTM by introducing an attention mechanism. Instead of relying only on the final hidden state, attention computes a weighted average over all hidden states, allowing the model to focus on the most relevant parts of the input.\n",
    "\n",
    "**Key characteristics:**\n",
    "- Interpretable: highlights important tokens\n",
    "- Improves performance on complex sequences\n",
    "\n",
    "**Structure:**\n",
    "Embedding → BiLSTM → Attention Layer → Context Vector → Dense → ReLU → Dropout → Output\n"
   ]
  },
  {
   "cell_type": "code",
   "execution_count": 199,
   "id": "LUwTG25h4yx-",
   "metadata": {
    "execution": {
     "iopub.execute_input": "2025-06-23T21:07:20.682741Z",
     "iopub.status.busy": "2025-06-23T21:07:20.682061Z",
     "iopub.status.idle": "2025-06-23T21:07:20.688454Z",
     "shell.execute_reply": "2025-06-23T21:07:20.687804Z",
     "shell.execute_reply.started": "2025-06-23T21:07:20.682716Z"
    },
    "id": "LUwTG25h4yx-"
   },
   "outputs": [],
   "source": [
    "class BiLSTMWithAttention(nn.Module):\n",
    "    def __init__(self, embedding_matrix, hidden_size=128, num_classes=3, freeze=False):\n",
    "        super(BiLSTMWithAttention, self).__init__()\n",
    "        vocab_size, embedding_dim = embedding_matrix.shape\n",
    "\n",
    "        self.embedding = nn.Embedding.from_pretrained(embedding_matrix, freeze=freeze)\n",
    "        self.lstm = nn.LSTM(input_size=embedding_dim, hidden_size=hidden_size, batch_first=True, bidirectional=True)\n",
    "        self.attention = nn.Linear(hidden_size * 2, 1)\n",
    "        self.head = nn.Linear(hidden_size * 2, num_classes)           # FC\n",
    "\n",
    "    def forward(self, x):\n",
    "        embedded = self.embedding(x)                               # (batch_size, seq_len) → (batch_size, seq_len, emb_dim)\n",
    "        lstm_out, _ = self.lstm(embedded)                          # (batch_size, seq_len, hidden_size * 2)\n",
    "\n",
    "        attn_weights = F.softmax(self.attention(lstm_out), dim=1)  # (batch_size, seq_len, 1)\n",
    "        context = torch.sum(attn_weights * lstm_out, dim=1)        # (batch_size, hidden_size * 2)\n",
    "\n",
    "        return self.head(context)                                  # (batch_size, num_classes)"
   ]
  },
  {
   "cell_type": "markdown",
   "id": "hwnFzXh7tXOy",
   "metadata": {
    "id": "hwnFzXh7tXOy"
   },
   "source": [
    "## 3.4 Model Training and Evaluating\n",
    "\n",
    "In this section, we train and evaluate all deep learning models introduced in Section 3.3 using pretrained word embeddings (GloVe Twitter or FastText).  \n",
    "Each model is trained for a fixed number of epochs using the same train/test split and hyperparameters to ensure fairness.\n",
    "\n",
    "**Evaluation metrics:**\n",
    "\n",
    "- **Accuracy**: overall correctness  \n",
    "- **Weighted F1-score**: balances performance across classes (important for unbalanced data)\n",
    "\n",
    "All results are saved in a dictionary for comparison."
   ]
  },
  {
   "cell_type": "markdown",
   "id": "LpDmbaDixrGk",
   "metadata": {
    "id": "LpDmbaDixrGk"
   },
   "source": [
    "### 3.4.1 Running All Experiments (GloVe)\n"
   ]
  },
  {
   "cell_type": "code",
   "execution_count": 200,
   "id": "c73e094f-88df-420e-8e64-606f10906729",
   "metadata": {
    "execution": {
     "iopub.execute_input": "2025-06-23T21:07:22.557078Z",
     "iopub.status.busy": "2025-06-23T21:07:22.556789Z",
     "iopub.status.idle": "2025-06-23T21:07:22.560741Z",
     "shell.execute_reply": "2025-06-23T21:07:22.560082Z",
     "shell.execute_reply.started": "2025-06-23T21:07:22.557056Z"
    }
   },
   "outputs": [],
   "source": [
    "intermediate_results = {}\n",
    "intermediate_histories = {}"
   ]
  },
  {
   "cell_type": "code",
   "execution_count": 201,
   "id": "K_qfUI3IxxUE",
   "metadata": {
    "colab": {
     "base_uri": "https://localhost:8080/"
    },
    "execution": {
     "iopub.execute_input": "2025-06-23T21:07:24.181147Z",
     "iopub.status.busy": "2025-06-23T21:07:24.180547Z",
     "iopub.status.idle": "2025-06-23T21:07:44.717689Z",
     "shell.execute_reply": "2025-06-23T21:07:44.717086Z",
     "shell.execute_reply.started": "2025-06-23T21:07:24.181124Z"
    },
    "id": "K_qfUI3IxxUE",
    "outputId": "9852260d-9d32-4730-970f-ba1b0a01f5d6"
   },
   "outputs": [
    {
     "name": "stderr",
     "output_type": "stream",
     "text": [
      "Epoch 1/40: 100%|██████████| 183/183 [00:00<00:00, 331.78it/s]\n"
     ]
    },
    {
     "name": "stdout",
     "output_type": "stream",
     "text": [
      "\n",
      "Epoch 1 complete. Train Loss: 0.9228\n",
      "→ Eval Loss: 0.9183, Accuracy: 0.6267, F1: 0.4829\n",
      "Improvement found, saving model.\n"
     ]
    },
    {
     "name": "stderr",
     "output_type": "stream",
     "text": [
      "Epoch 2/40: 100%|██████████| 183/183 [00:00<00:00, 343.04it/s]\n"
     ]
    },
    {
     "name": "stdout",
     "output_type": "stream",
     "text": [
      "\n",
      "Epoch 2 complete. Train Loss: 0.9096\n",
      "→ Eval Loss: 0.9229, Accuracy: 0.6267, F1: 0.4829\n",
      "EarlyStopping counter: 1/4\n"
     ]
    },
    {
     "name": "stderr",
     "output_type": "stream",
     "text": [
      "Epoch 3/40: 100%|██████████| 183/183 [00:00<00:00, 341.12it/s]\n"
     ]
    },
    {
     "name": "stdout",
     "output_type": "stream",
     "text": [
      "\n",
      "Epoch 3 complete. Train Loss: 0.9207\n",
      "→ Eval Loss: 0.9179, Accuracy: 0.6267, F1: 0.4829\n",
      "EarlyStopping counter: 2/4\n"
     ]
    },
    {
     "name": "stderr",
     "output_type": "stream",
     "text": [
      "Epoch 4/40: 100%|██████████| 183/183 [00:00<00:00, 342.86it/s]\n"
     ]
    },
    {
     "name": "stdout",
     "output_type": "stream",
     "text": [
      "\n",
      "Epoch 4 complete. Train Loss: 0.9177\n",
      "→ Eval Loss: 0.9196, Accuracy: 0.6267, F1: 0.4829\n",
      "EarlyStopping counter: 3/4\n"
     ]
    },
    {
     "name": "stderr",
     "output_type": "stream",
     "text": [
      "Epoch 5/40: 100%|██████████| 183/183 [00:00<00:00, 341.73it/s]\n"
     ]
    },
    {
     "name": "stdout",
     "output_type": "stream",
     "text": [
      "\n",
      "Epoch 5 complete. Train Loss: 0.9181\n",
      "→ Eval Loss: 0.9174, Accuracy: 0.6267, F1: 0.4829\n",
      "EarlyStopping counter: 4/4\n",
      "Early stopping triggered.\n",
      "RNN + GloVe Final Results:\n",
      "Accuracy: 0.6267, F1-Score: 0.4829\n"
     ]
    },
    {
     "name": "stderr",
     "output_type": "stream",
     "text": [
      "Epoch 1/40: 100%|██████████| 183/183 [00:00<00:00, 258.21it/s]\n"
     ]
    },
    {
     "name": "stdout",
     "output_type": "stream",
     "text": [
      "\n",
      "Epoch 1 complete. Train Loss: 0.6634\n",
      "→ Eval Loss: 0.5231, Accuracy: 0.7900, F1: 0.7810\n",
      "Improvement found, saving model.\n"
     ]
    },
    {
     "name": "stderr",
     "output_type": "stream",
     "text": [
      "Epoch 2/40: 100%|██████████| 183/183 [00:00<00:00, 257.93it/s]\n"
     ]
    },
    {
     "name": "stdout",
     "output_type": "stream",
     "text": [
      "\n",
      "Epoch 2 complete. Train Loss: 0.4770\n",
      "→ Eval Loss: 0.4917, Accuracy: 0.8115, F1: 0.8068\n",
      "Improvement found, saving model.\n"
     ]
    },
    {
     "name": "stderr",
     "output_type": "stream",
     "text": [
      "Epoch 3/40: 100%|██████████| 183/183 [00:00<00:00, 251.13it/s]\n"
     ]
    },
    {
     "name": "stdout",
     "output_type": "stream",
     "text": [
      "\n",
      "Epoch 3 complete. Train Loss: 0.4097\n",
      "→ Eval Loss: 0.4824, Accuracy: 0.8145, F1: 0.8094\n",
      "Improvement found, saving model.\n"
     ]
    },
    {
     "name": "stderr",
     "output_type": "stream",
     "text": [
      "Epoch 4/40: 100%|██████████| 183/183 [00:00<00:00, 263.26it/s]\n"
     ]
    },
    {
     "name": "stdout",
     "output_type": "stream",
     "text": [
      "\n",
      "Epoch 4 complete. Train Loss: 0.3503\n",
      "→ Eval Loss: 0.5106, Accuracy: 0.8145, F1: 0.8065\n",
      "EarlyStopping counter: 1/4\n"
     ]
    },
    {
     "name": "stderr",
     "output_type": "stream",
     "text": [
      "Epoch 5/40: 100%|██████████| 183/183 [00:00<00:00, 260.86it/s]\n"
     ]
    },
    {
     "name": "stdout",
     "output_type": "stream",
     "text": [
      "\n",
      "Epoch 5 complete. Train Loss: 0.2976\n",
      "→ Eval Loss: 0.5205, Accuracy: 0.8108, F1: 0.8070\n",
      "EarlyStopping counter: 2/4\n"
     ]
    },
    {
     "name": "stderr",
     "output_type": "stream",
     "text": [
      "Epoch 6/40: 100%|██████████| 183/183 [00:00<00:00, 263.48it/s]\n"
     ]
    },
    {
     "name": "stdout",
     "output_type": "stream",
     "text": [
      "\n",
      "Epoch 6 complete. Train Loss: 0.2453\n",
      "→ Eval Loss: 0.5874, Accuracy: 0.7862, F1: 0.7903\n",
      "EarlyStopping counter: 3/4\n"
     ]
    },
    {
     "name": "stderr",
     "output_type": "stream",
     "text": [
      "Epoch 7/40: 100%|██████████| 183/183 [00:00<00:00, 261.89it/s]\n"
     ]
    },
    {
     "name": "stdout",
     "output_type": "stream",
     "text": [
      "\n",
      "Epoch 7 complete. Train Loss: 0.2023\n",
      "→ Eval Loss: 0.6201, Accuracy: 0.7944, F1: 0.7928\n",
      "EarlyStopping counter: 4/4\n",
      "Early stopping triggered.\n",
      "BiLSTM + GloVe Final Results:\n",
      "Accuracy: 0.8145, F1-Score: 0.8094\n"
     ]
    },
    {
     "name": "stderr",
     "output_type": "stream",
     "text": [
      "Epoch 1/40: 100%|██████████| 183/183 [00:00<00:00, 239.89it/s]\n"
     ]
    },
    {
     "name": "stdout",
     "output_type": "stream",
     "text": [
      "\n",
      "Epoch 1 complete. Train Loss: 0.7198\n",
      "→ Eval Loss: 0.5410, Accuracy: 0.7811, F1: 0.7703\n",
      "Improvement found, saving model.\n"
     ]
    },
    {
     "name": "stderr",
     "output_type": "stream",
     "text": [
      "Epoch 2/40: 100%|██████████| 183/183 [00:00<00:00, 226.08it/s]\n"
     ]
    },
    {
     "name": "stdout",
     "output_type": "stream",
     "text": [
      "\n",
      "Epoch 2 complete. Train Loss: 0.4840\n",
      "→ Eval Loss: 0.4949, Accuracy: 0.8098, F1: 0.8048\n",
      "Improvement found, saving model.\n"
     ]
    },
    {
     "name": "stderr",
     "output_type": "stream",
     "text": [
      "Epoch 3/40: 100%|██████████| 183/183 [00:00<00:00, 242.41it/s]\n"
     ]
    },
    {
     "name": "stdout",
     "output_type": "stream",
     "text": [
      "\n",
      "Epoch 3 complete. Train Loss: 0.4109\n",
      "→ Eval Loss: 0.4849, Accuracy: 0.8122, F1: 0.8063\n",
      "Improvement found, saving model.\n"
     ]
    },
    {
     "name": "stderr",
     "output_type": "stream",
     "text": [
      "Epoch 4/40: 100%|██████████| 183/183 [00:00<00:00, 243.11it/s]\n"
     ]
    },
    {
     "name": "stdout",
     "output_type": "stream",
     "text": [
      "\n",
      "Epoch 4 complete. Train Loss: 0.3554\n",
      "→ Eval Loss: 0.4965, Accuracy: 0.8081, F1: 0.8040\n",
      "EarlyStopping counter: 1/4\n"
     ]
    },
    {
     "name": "stderr",
     "output_type": "stream",
     "text": [
      "Epoch 5/40: 100%|██████████| 183/183 [00:00<00:00, 242.11it/s]\n"
     ]
    },
    {
     "name": "stdout",
     "output_type": "stream",
     "text": [
      "\n",
      "Epoch 5 complete. Train Loss: 0.2998\n",
      "→ Eval Loss: 0.5442, Accuracy: 0.7934, F1: 0.7946\n",
      "EarlyStopping counter: 2/4\n"
     ]
    },
    {
     "name": "stderr",
     "output_type": "stream",
     "text": [
      "Epoch 6/40: 100%|██████████| 183/183 [00:00<00:00, 246.18it/s]\n"
     ]
    },
    {
     "name": "stdout",
     "output_type": "stream",
     "text": [
      "\n",
      "Epoch 6 complete. Train Loss: 0.2535\n",
      "→ Eval Loss: 0.5664, Accuracy: 0.7961, F1: 0.7949\n",
      "EarlyStopping counter: 3/4\n"
     ]
    },
    {
     "name": "stderr",
     "output_type": "stream",
     "text": [
      "Epoch 7/40: 100%|██████████| 183/183 [00:00<00:00, 246.24it/s]\n"
     ]
    },
    {
     "name": "stdout",
     "output_type": "stream",
     "text": [
      "\n",
      "Epoch 7 complete. Train Loss: 0.2053\n",
      "→ Eval Loss: 0.6421, Accuracy: 0.7848, F1: 0.7860\n",
      "EarlyStopping counter: 4/4\n",
      "Early stopping triggered.\n",
      "BiLSTM + Attention + GloVe Final Results:\n",
      "Accuracy: 0.8122, F1-Score: 0.8063\n"
     ]
    },
    {
     "name": "stderr",
     "output_type": "stream",
     "text": [
      "Epoch 1/40: 100%|██████████| 183/183 [00:00<00:00, 322.36it/s]\n"
     ]
    },
    {
     "name": "stdout",
     "output_type": "stream",
     "text": [
      "\n",
      "Epoch 1 complete. Train Loss: 0.7664\n",
      "→ Eval Loss: 0.6002, Accuracy: 0.7497, F1: 0.7299\n",
      "Improvement found, saving model.\n"
     ]
    },
    {
     "name": "stderr",
     "output_type": "stream",
     "text": [
      "Epoch 2/40: 100%|██████████| 183/183 [00:00<00:00, 323.21it/s]\n"
     ]
    },
    {
     "name": "stdout",
     "output_type": "stream",
     "text": [
      "\n",
      "Epoch 2 complete. Train Loss: 0.5367\n",
      "→ Eval Loss: 0.5341, Accuracy: 0.7947, F1: 0.7856\n",
      "Improvement found, saving model.\n"
     ]
    },
    {
     "name": "stderr",
     "output_type": "stream",
     "text": [
      "Epoch 3/40: 100%|██████████| 183/183 [00:00<00:00, 304.58it/s]\n"
     ]
    },
    {
     "name": "stdout",
     "output_type": "stream",
     "text": [
      "\n",
      "Epoch 3 complete. Train Loss: 0.4417\n",
      "→ Eval Loss: 0.4990, Accuracy: 0.8098, F1: 0.8043\n",
      "Improvement found, saving model.\n"
     ]
    },
    {
     "name": "stderr",
     "output_type": "stream",
     "text": [
      "Epoch 4/40: 100%|██████████| 183/183 [00:00<00:00, 310.08it/s]\n"
     ]
    },
    {
     "name": "stdout",
     "output_type": "stream",
     "text": [
      "\n",
      "Epoch 4 complete. Train Loss: 0.3665\n",
      "→ Eval Loss: 0.5165, Accuracy: 0.7995, F1: 0.8012\n",
      "EarlyStopping counter: 1/4\n"
     ]
    },
    {
     "name": "stderr",
     "output_type": "stream",
     "text": [
      "Epoch 5/40: 100%|██████████| 183/183 [00:00<00:00, 326.36it/s]\n"
     ]
    },
    {
     "name": "stdout",
     "output_type": "stream",
     "text": [
      "\n",
      "Epoch 5 complete. Train Loss: 0.3055\n",
      "→ Eval Loss: 0.5391, Accuracy: 0.8094, F1: 0.8048\n",
      "Improvement found, saving model.\n"
     ]
    },
    {
     "name": "stderr",
     "output_type": "stream",
     "text": [
      "Epoch 6/40: 100%|██████████| 183/183 [00:00<00:00, 323.56it/s]\n"
     ]
    },
    {
     "name": "stdout",
     "output_type": "stream",
     "text": [
      "\n",
      "Epoch 6 complete. Train Loss: 0.2525\n",
      "→ Eval Loss: 0.5934, Accuracy: 0.8036, F1: 0.7994\n",
      "EarlyStopping counter: 1/4\n"
     ]
    },
    {
     "name": "stderr",
     "output_type": "stream",
     "text": [
      "Epoch 7/40: 100%|██████████| 183/183 [00:00<00:00, 308.79it/s]\n"
     ]
    },
    {
     "name": "stdout",
     "output_type": "stream",
     "text": [
      "\n",
      "Epoch 7 complete. Train Loss: 0.2075\n",
      "→ Eval Loss: 0.6260, Accuracy: 0.7975, F1: 0.7935\n",
      "EarlyStopping counter: 2/4\n"
     ]
    },
    {
     "name": "stderr",
     "output_type": "stream",
     "text": [
      "Epoch 8/40: 100%|██████████| 183/183 [00:00<00:00, 307.12it/s]\n"
     ]
    },
    {
     "name": "stdout",
     "output_type": "stream",
     "text": [
      "\n",
      "Epoch 8 complete. Train Loss: 0.1707\n",
      "→ Eval Loss: 0.7199, Accuracy: 0.7865, F1: 0.7862\n",
      "EarlyStopping counter: 3/4\n"
     ]
    },
    {
     "name": "stderr",
     "output_type": "stream",
     "text": [
      "Epoch 9/40: 100%|██████████| 183/183 [00:00<00:00, 307.91it/s]\n"
     ]
    },
    {
     "name": "stdout",
     "output_type": "stream",
     "text": [
      "\n",
      "Epoch 9 complete. Train Loss: 0.1438\n",
      "→ Eval Loss: 0.7747, Accuracy: 0.7804, F1: 0.7823\n",
      "EarlyStopping counter: 4/4\n",
      "Early stopping triggered.\n",
      "GRU + GloVe Final Results:\n",
      "Accuracy: 0.8094, F1-Score: 0.8048\n"
     ]
    }
   ],
   "source": [
    "# RNN + GloVe\n",
    "name, result, history = train_and_evaluate(\"RNN + GloVe\", RNNClassifier, embedding_matrix_glove, train_loader, test_loader)\n",
    "intermediate_results[name] = result\n",
    "intermediate_histories[name] = history\n",
    "\n",
    "# BiLSTM + GloVe\n",
    "name, result, history = train_and_evaluate(\"BiLSTM + GloVe\", BiLSTMClassifier, embedding_matrix_glove, train_loader, test_loader)\n",
    "intermediate_results[name] = result\n",
    "intermediate_histories[name] = history\n",
    "\n",
    "# BiLSTM + Attention + GloVe\n",
    "name, result, history = train_and_evaluate(\"BiLSTM + Attention + GloVe\", BiLSTMWithAttention, embedding_matrix_glove, train_loader, test_loader)\n",
    "intermediate_results[name] = result\n",
    "intermediate_histories[name] = history\n",
    "\n",
    "# GRU + GloVe\n",
    "name, result, history = train_and_evaluate(\"GRU + GloVe\", GRUClassifier, embedding_matrix_glove, train_loader, test_loader)\n",
    "intermediate_results[name] = result\n",
    "intermediate_histories[name] = history"
   ]
  },
  {
   "cell_type": "markdown",
   "id": "e54obOOPx34Z",
   "metadata": {
    "id": "e54obOOPx34Z"
   },
   "source": [
    "### 3.4.2 Running with FastText\n"
   ]
  },
  {
   "cell_type": "code",
   "execution_count": 202,
   "id": "Z-o3NQYexzLd",
   "metadata": {
    "colab": {
     "base_uri": "https://localhost:8080/"
    },
    "execution": {
     "iopub.execute_input": "2025-06-23T21:07:44.719151Z",
     "iopub.status.busy": "2025-06-23T21:07:44.718908Z",
     "iopub.status.idle": "2025-06-23T21:08:10.596066Z",
     "shell.execute_reply": "2025-06-23T21:08:10.595262Z",
     "shell.execute_reply.started": "2025-06-23T21:07:44.719134Z"
    },
    "id": "Z-o3NQYexzLd",
    "outputId": "75afb707-1b13-408e-f72c-5e127a5fbe84"
   },
   "outputs": [
    {
     "name": "stderr",
     "output_type": "stream",
     "text": [
      "Epoch 1/40: 100%|██████████| 183/183 [00:00<00:00, 301.37it/s]\n"
     ]
    },
    {
     "name": "stdout",
     "output_type": "stream",
     "text": [
      "\n",
      "Epoch 1 complete. Train Loss: 0.9263\n",
      "→ Eval Loss: 0.9233, Accuracy: 0.6264, F1: 0.4827\n",
      "Improvement found, saving model.\n"
     ]
    },
    {
     "name": "stderr",
     "output_type": "stream",
     "text": [
      "Epoch 2/40: 100%|██████████| 183/183 [00:00<00:00, 304.45it/s]\n"
     ]
    },
    {
     "name": "stdout",
     "output_type": "stream",
     "text": [
      "\n",
      "Epoch 2 complete. Train Loss: 0.9198\n",
      "→ Eval Loss: 0.9215, Accuracy: 0.6264, F1: 0.4827\n",
      "EarlyStopping counter: 1/4\n"
     ]
    },
    {
     "name": "stderr",
     "output_type": "stream",
     "text": [
      "Epoch 3/40: 100%|██████████| 183/183 [00:00<00:00, 303.23it/s]\n"
     ]
    },
    {
     "name": "stdout",
     "output_type": "stream",
     "text": [
      "\n",
      "Epoch 3 complete. Train Loss: 0.9195\n",
      "→ Eval Loss: 0.9200, Accuracy: 0.6264, F1: 0.4827\n",
      "EarlyStopping counter: 2/4\n"
     ]
    },
    {
     "name": "stderr",
     "output_type": "stream",
     "text": [
      "Epoch 4/40: 100%|██████████| 183/183 [00:00<00:00, 297.96it/s]\n"
     ]
    },
    {
     "name": "stdout",
     "output_type": "stream",
     "text": [
      "\n",
      "Epoch 4 complete. Train Loss: 0.9173\n",
      "→ Eval Loss: 0.9190, Accuracy: 0.6264, F1: 0.4827\n",
      "EarlyStopping counter: 3/4\n"
     ]
    },
    {
     "name": "stderr",
     "output_type": "stream",
     "text": [
      "Epoch 5/40: 100%|██████████| 183/183 [00:00<00:00, 298.68it/s]\n"
     ]
    },
    {
     "name": "stdout",
     "output_type": "stream",
     "text": [
      "\n",
      "Epoch 5 complete. Train Loss: 0.8947\n",
      "→ Eval Loss: 0.9798, Accuracy: 0.6048, F1: 0.5298\n",
      "Improvement found, saving model.\n"
     ]
    },
    {
     "name": "stderr",
     "output_type": "stream",
     "text": [
      "Epoch 6/40: 100%|██████████| 183/183 [00:00<00:00, 298.90it/s]\n"
     ]
    },
    {
     "name": "stdout",
     "output_type": "stream",
     "text": [
      "\n",
      "Epoch 6 complete. Train Loss: 0.8594\n",
      "→ Eval Loss: 0.8705, Accuracy: 0.6264, F1: 0.4828\n",
      "EarlyStopping counter: 1/4\n"
     ]
    },
    {
     "name": "stderr",
     "output_type": "stream",
     "text": [
      "Epoch 7/40: 100%|██████████| 183/183 [00:00<00:00, 304.54it/s]\n"
     ]
    },
    {
     "name": "stdout",
     "output_type": "stream",
     "text": [
      "\n",
      "Epoch 7 complete. Train Loss: 0.8204\n",
      "→ Eval Loss: 0.8315, Accuracy: 0.6441, F1: 0.5723\n",
      "Improvement found, saving model.\n"
     ]
    },
    {
     "name": "stderr",
     "output_type": "stream",
     "text": [
      "Epoch 8/40: 100%|██████████| 183/183 [00:00<00:00, 305.67it/s]\n"
     ]
    },
    {
     "name": "stdout",
     "output_type": "stream",
     "text": [
      "\n",
      "Epoch 8 complete. Train Loss: 0.8005\n",
      "→ Eval Loss: 0.8548, Accuracy: 0.6417, F1: 0.5451\n",
      "EarlyStopping counter: 1/4\n"
     ]
    },
    {
     "name": "stderr",
     "output_type": "stream",
     "text": [
      "Epoch 9/40: 100%|██████████| 183/183 [00:00<00:00, 295.38it/s]\n"
     ]
    },
    {
     "name": "stdout",
     "output_type": "stream",
     "text": [
      "\n",
      "Epoch 9 complete. Train Loss: 0.8335\n",
      "→ Eval Loss: 0.8487, Accuracy: 0.6370, F1: 0.5541\n",
      "EarlyStopping counter: 2/4\n"
     ]
    },
    {
     "name": "stderr",
     "output_type": "stream",
     "text": [
      "Epoch 10/40: 100%|██████████| 183/183 [00:00<00:00, 308.56it/s]\n"
     ]
    },
    {
     "name": "stdout",
     "output_type": "stream",
     "text": [
      "\n",
      "Epoch 10 complete. Train Loss: 0.8198\n",
      "→ Eval Loss: 0.8441, Accuracy: 0.6434, F1: 0.5550\n",
      "EarlyStopping counter: 3/4\n"
     ]
    },
    {
     "name": "stderr",
     "output_type": "stream",
     "text": [
      "Epoch 11/40: 100%|██████████| 183/183 [00:00<00:00, 305.28it/s]\n"
     ]
    },
    {
     "name": "stdout",
     "output_type": "stream",
     "text": [
      "\n",
      "Epoch 11 complete. Train Loss: 0.8233\n",
      "→ Eval Loss: 0.8416, Accuracy: 0.6438, F1: 0.5541\n",
      "EarlyStopping counter: 4/4\n",
      "Early stopping triggered.\n",
      "RNN + FastText Final Results:\n",
      "Accuracy: 0.6441, F1-Score: 0.5723\n"
     ]
    },
    {
     "name": "stderr",
     "output_type": "stream",
     "text": [
      "Epoch 1/40: 100%|██████████| 183/183 [00:00<00:00, 233.84it/s]\n"
     ]
    },
    {
     "name": "stdout",
     "output_type": "stream",
     "text": [
      "\n",
      "Epoch 1 complete. Train Loss: 0.7673\n",
      "→ Eval Loss: 0.6097, Accuracy: 0.7548, F1: 0.7369\n",
      "Improvement found, saving model.\n"
     ]
    },
    {
     "name": "stderr",
     "output_type": "stream",
     "text": [
      "Epoch 2/40: 100%|██████████| 183/183 [00:00<00:00, 234.23it/s]\n"
     ]
    },
    {
     "name": "stdout",
     "output_type": "stream",
     "text": [
      "\n",
      "Epoch 2 complete. Train Loss: 0.4985\n",
      "→ Eval Loss: 0.5393, Accuracy: 0.7889, F1: 0.7891\n",
      "Improvement found, saving model.\n"
     ]
    },
    {
     "name": "stderr",
     "output_type": "stream",
     "text": [
      "Epoch 3/40: 100%|██████████| 183/183 [00:00<00:00, 233.03it/s]\n"
     ]
    },
    {
     "name": "stdout",
     "output_type": "stream",
     "text": [
      "\n",
      "Epoch 3 complete. Train Loss: 0.3597\n",
      "→ Eval Loss: 0.5661, Accuracy: 0.7876, F1: 0.7867\n",
      "EarlyStopping counter: 1/4\n"
     ]
    },
    {
     "name": "stderr",
     "output_type": "stream",
     "text": [
      "Epoch 4/40: 100%|██████████| 183/183 [00:00<00:00, 234.48it/s]\n"
     ]
    },
    {
     "name": "stdout",
     "output_type": "stream",
     "text": [
      "\n",
      "Epoch 4 complete. Train Loss: 0.2738\n",
      "→ Eval Loss: 0.6318, Accuracy: 0.7852, F1: 0.7841\n",
      "EarlyStopping counter: 2/4\n"
     ]
    },
    {
     "name": "stderr",
     "output_type": "stream",
     "text": [
      "Epoch 5/40: 100%|██████████| 183/183 [00:00<00:00, 235.24it/s]\n"
     ]
    },
    {
     "name": "stdout",
     "output_type": "stream",
     "text": [
      "\n",
      "Epoch 5 complete. Train Loss: 0.2123\n",
      "→ Eval Loss: 0.7365, Accuracy: 0.7551, F1: 0.7575\n",
      "EarlyStopping counter: 3/4\n"
     ]
    },
    {
     "name": "stderr",
     "output_type": "stream",
     "text": [
      "Epoch 6/40: 100%|██████████| 183/183 [00:00<00:00, 233.45it/s]\n"
     ]
    },
    {
     "name": "stdout",
     "output_type": "stream",
     "text": [
      "\n",
      "Epoch 6 complete. Train Loss: 0.1718\n",
      "→ Eval Loss: 0.7638, Accuracy: 0.7643, F1: 0.7628\n",
      "EarlyStopping counter: 4/4\n",
      "Early stopping triggered.\n",
      "BiLSTM + FastText Final Results:\n",
      "Accuracy: 0.7889, F1-Score: 0.7891\n"
     ]
    },
    {
     "name": "stderr",
     "output_type": "stream",
     "text": [
      "Epoch 1/40: 100%|██████████| 183/183 [00:00<00:00, 220.75it/s]\n"
     ]
    },
    {
     "name": "stdout",
     "output_type": "stream",
     "text": [
      "\n",
      "Epoch 1 complete. Train Loss: 0.8092\n",
      "→ Eval Loss: 0.6584, Accuracy: 0.6960, F1: 0.6394\n",
      "Improvement found, saving model.\n"
     ]
    },
    {
     "name": "stderr",
     "output_type": "stream",
     "text": [
      "Epoch 2/40: 100%|██████████| 183/183 [00:00<00:00, 219.82it/s]\n"
     ]
    },
    {
     "name": "stdout",
     "output_type": "stream",
     "text": [
      "\n",
      "Epoch 2 complete. Train Loss: 0.5517\n",
      "→ Eval Loss: 0.5893, Accuracy: 0.7657, F1: 0.7597\n",
      "Improvement found, saving model.\n"
     ]
    },
    {
     "name": "stderr",
     "output_type": "stream",
     "text": [
      "Epoch 3/40: 100%|██████████| 183/183 [00:00<00:00, 213.95it/s]\n"
     ]
    },
    {
     "name": "stdout",
     "output_type": "stream",
     "text": [
      "\n",
      "Epoch 3 complete. Train Loss: 0.4494\n",
      "→ Eval Loss: 0.6053, Accuracy: 0.7688, F1: 0.7561\n",
      "EarlyStopping counter: 1/4\n"
     ]
    },
    {
     "name": "stderr",
     "output_type": "stream",
     "text": [
      "Epoch 4/40: 100%|██████████| 183/183 [00:00<00:00, 211.34it/s]\n"
     ]
    },
    {
     "name": "stdout",
     "output_type": "stream",
     "text": [
      "\n",
      "Epoch 4 complete. Train Loss: 0.3583\n",
      "→ Eval Loss: 0.6098, Accuracy: 0.7766, F1: 0.7778\n",
      "Improvement found, saving model.\n"
     ]
    },
    {
     "name": "stderr",
     "output_type": "stream",
     "text": [
      "Epoch 5/40: 100%|██████████| 183/183 [00:00<00:00, 218.79it/s]\n"
     ]
    },
    {
     "name": "stdout",
     "output_type": "stream",
     "text": [
      "\n",
      "Epoch 5 complete. Train Loss: 0.2766\n",
      "→ Eval Loss: 0.6243, Accuracy: 0.7719, F1: 0.7716\n",
      "EarlyStopping counter: 1/4\n"
     ]
    },
    {
     "name": "stderr",
     "output_type": "stream",
     "text": [
      "Epoch 6/40: 100%|██████████| 183/183 [00:00<00:00, 219.19it/s]\n"
     ]
    },
    {
     "name": "stdout",
     "output_type": "stream",
     "text": [
      "\n",
      "Epoch 6 complete. Train Loss: 0.2199\n",
      "→ Eval Loss: 0.7102, Accuracy: 0.7671, F1: 0.7665\n",
      "EarlyStopping counter: 2/4\n"
     ]
    },
    {
     "name": "stderr",
     "output_type": "stream",
     "text": [
      "Epoch 7/40: 100%|██████████| 183/183 [00:00<00:00, 216.68it/s]\n"
     ]
    },
    {
     "name": "stdout",
     "output_type": "stream",
     "text": [
      "\n",
      "Epoch 7 complete. Train Loss: 0.1809\n",
      "→ Eval Loss: 0.7675, Accuracy: 0.7695, F1: 0.7682\n",
      "EarlyStopping counter: 3/4\n"
     ]
    },
    {
     "name": "stderr",
     "output_type": "stream",
     "text": [
      "Epoch 8/40: 100%|██████████| 183/183 [00:00<00:00, 217.20it/s]\n"
     ]
    },
    {
     "name": "stdout",
     "output_type": "stream",
     "text": [
      "\n",
      "Epoch 8 complete. Train Loss: 0.1458\n",
      "→ Eval Loss: 0.7940, Accuracy: 0.7568, F1: 0.7547\n",
      "EarlyStopping counter: 4/4\n",
      "Early stopping triggered.\n",
      "BiLSTM + Attention + FastText Final Results:\n",
      "Accuracy: 0.7766, F1-Score: 0.7778\n"
     ]
    },
    {
     "name": "stderr",
     "output_type": "stream",
     "text": [
      "Epoch 1/40: 100%|██████████| 183/183 [00:00<00:00, 283.98it/s]\n"
     ]
    },
    {
     "name": "stdout",
     "output_type": "stream",
     "text": [
      "\n",
      "Epoch 1 complete. Train Loss: 0.8273\n",
      "→ Eval Loss: 0.6415, Accuracy: 0.7391, F1: 0.7313\n",
      "Improvement found, saving model.\n"
     ]
    },
    {
     "name": "stderr",
     "output_type": "stream",
     "text": [
      "Epoch 2/40: 100%|██████████| 183/183 [00:00<00:00, 289.15it/s]\n"
     ]
    },
    {
     "name": "stdout",
     "output_type": "stream",
     "text": [
      "\n",
      "Epoch 2 complete. Train Loss: 0.5516\n",
      "→ Eval Loss: 0.5864, Accuracy: 0.7722, F1: 0.7570\n",
      "Improvement found, saving model.\n"
     ]
    },
    {
     "name": "stderr",
     "output_type": "stream",
     "text": [
      "Epoch 3/40: 100%|██████████| 183/183 [00:00<00:00, 287.46it/s]\n"
     ]
    },
    {
     "name": "stdout",
     "output_type": "stream",
     "text": [
      "\n",
      "Epoch 3 complete. Train Loss: 0.4276\n",
      "→ Eval Loss: 0.5892, Accuracy: 0.7797, F1: 0.7709\n",
      "Improvement found, saving model.\n"
     ]
    },
    {
     "name": "stderr",
     "output_type": "stream",
     "text": [
      "Epoch 4/40: 100%|██████████| 183/183 [00:00<00:00, 287.16it/s]\n"
     ]
    },
    {
     "name": "stdout",
     "output_type": "stream",
     "text": [
      "\n",
      "Epoch 4 complete. Train Loss: 0.3207\n",
      "→ Eval Loss: 0.6239, Accuracy: 0.7824, F1: 0.7784\n",
      "Improvement found, saving model.\n"
     ]
    },
    {
     "name": "stderr",
     "output_type": "stream",
     "text": [
      "Epoch 5/40: 100%|██████████| 183/183 [00:00<00:00, 289.09it/s]\n"
     ]
    },
    {
     "name": "stdout",
     "output_type": "stream",
     "text": [
      "\n",
      "Epoch 5 complete. Train Loss: 0.2407\n",
      "→ Eval Loss: 0.6695, Accuracy: 0.7712, F1: 0.7673\n",
      "EarlyStopping counter: 1/4\n"
     ]
    },
    {
     "name": "stderr",
     "output_type": "stream",
     "text": [
      "Epoch 6/40: 100%|██████████| 183/183 [00:00<00:00, 288.22it/s]\n"
     ]
    },
    {
     "name": "stdout",
     "output_type": "stream",
     "text": [
      "\n",
      "Epoch 6 complete. Train Loss: 0.1832\n",
      "→ Eval Loss: 0.7859, Accuracy: 0.7555, F1: 0.7602\n",
      "EarlyStopping counter: 2/4\n"
     ]
    },
    {
     "name": "stderr",
     "output_type": "stream",
     "text": [
      "Epoch 7/40: 100%|██████████| 183/183 [00:00<00:00, 290.43it/s]\n"
     ]
    },
    {
     "name": "stdout",
     "output_type": "stream",
     "text": [
      "\n",
      "Epoch 7 complete. Train Loss: 0.1439\n",
      "→ Eval Loss: 0.8253, Accuracy: 0.7599, F1: 0.7596\n",
      "EarlyStopping counter: 3/4\n"
     ]
    },
    {
     "name": "stderr",
     "output_type": "stream",
     "text": [
      "Epoch 8/40: 100%|██████████| 183/183 [00:00<00:00, 281.73it/s]\n"
     ]
    },
    {
     "name": "stdout",
     "output_type": "stream",
     "text": [
      "\n",
      "Epoch 8 complete. Train Loss: 0.1164\n",
      "→ Eval Loss: 0.9219, Accuracy: 0.7599, F1: 0.7540\n",
      "EarlyStopping counter: 4/4\n",
      "Early stopping triggered.\n",
      "GRU + FastText Final Results:\n",
      "Accuracy: 0.7824, F1-Score: 0.7784\n"
     ]
    }
   ],
   "source": [
    "# RNN + FastText\n",
    "name, result, history = train_and_evaluate(\"RNN + FastText\", RNNClassifier, embedding_matrix_fasttext, train_loader, test_loader)\n",
    "intermediate_results[name] = result\n",
    "intermediate_histories[name] = history\n",
    "\n",
    "# BiLSTM + FastText\n",
    "name, result, history = train_and_evaluate(\"BiLSTM + FastText\", BiLSTMClassifier, embedding_matrix_fasttext, train_loader, test_loader)\n",
    "intermediate_results[name] = result\n",
    "intermediate_histories[name] = history\n",
    "\n",
    "# BiLSTM + Attention + FastText\n",
    "name, result, history = train_and_evaluate(\"BiLSTM + Attention + FastText\", BiLSTMWithAttention, embedding_matrix_fasttext, train_loader, test_loader)\n",
    "intermediate_results[name] = result\n",
    "intermediate_histories[name] = history\n",
    "\n",
    "# GRU + FastText\n",
    "name, result, history = train_and_evaluate(\"GRU + FastText\", GRUClassifier, embedding_matrix_fasttext, train_loader, test_loader)\n",
    "intermediate_results[name] = result\n",
    "intermediate_histories[name] = history"
   ]
  },
  {
   "cell_type": "code",
   "execution_count": 203,
   "id": "d3p5n-EjDo50",
   "metadata": {
    "execution": {
     "iopub.execute_input": "2025-06-23T21:08:10.597166Z",
     "iopub.status.busy": "2025-06-23T21:08:10.596937Z",
     "iopub.status.idle": "2025-06-23T21:08:10.603215Z",
     "shell.execute_reply": "2025-06-23T21:08:10.602521Z",
     "shell.execute_reply.started": "2025-06-23T21:08:10.597140Z"
    },
    "id": "d3p5n-EjDo50"
   },
   "outputs": [],
   "source": [
    "def plot_history(history, title=\"Training History\"):\n",
    "    train_loss = history.get(\"train_loss\", [])\n",
    "    val_loss = history.get(\"val_loss\", [])\n",
    "    val_acc = history.get(\"val_acc\", [])\n",
    "    val_f1 = history.get(\"val_f1\", [])\n",
    "\n",
    "    epochs = range(1, len(train_loss) + 1)\n",
    "\n",
    "    plt.figure(figsize=(10, 6))\n",
    "\n",
    "    plt.plot(epochs, train_loss, label=\"Train Loss\", marker='o')\n",
    "    if val_loss:\n",
    "        plt.plot(epochs, val_loss, label=\"Val Loss\", marker='x')\n",
    "    if val_acc:\n",
    "        plt.plot(epochs, val_acc, label=\"Val Accuracy\", marker='s')\n",
    "    if val_f1:\n",
    "        plt.plot(epochs, val_f1, label=\"Val F1 Score\", marker='^')\n",
    "\n",
    "    plt.xlabel(\"Epoch\")\n",
    "    plt.ylabel(\"Metric\")\n",
    "    plt.title(title)\n",
    "    plt.legend()\n",
    "    plt.grid(True)\n",
    "    plt.tight_layout()\n",
    "    plt.show()"
   ]
  },
  {
   "cell_type": "markdown",
   "id": "-3Smv9V64v2e",
   "metadata": {
    "id": "-3Smv9V64v2e"
   },
   "source": [
    "## 3.5 Results\n",
    "\n",
    "This section summarizes the performance of all trained models on the test set.  \n",
    "We compare models based on **Accuracy** and **Weighted F1-score** to assess both overall correctness and class-balanced performance."
   ]
  },
  {
   "cell_type": "code",
   "execution_count": 226,
   "id": "tqExgMHi9-QP",
   "metadata": {
    "colab": {
     "base_uri": "https://localhost:8080/",
     "height": 300
    },
    "execution": {
     "iopub.execute_input": "2025-06-23T21:16:15.572564Z",
     "iopub.status.busy": "2025-06-23T21:16:15.571849Z",
     "iopub.status.idle": "2025-06-23T21:16:15.584519Z",
     "shell.execute_reply": "2025-06-23T21:16:15.583678Z",
     "shell.execute_reply.started": "2025-06-23T21:16:15.572539Z"
    },
    "id": "tqExgMHi9-QP",
    "outputId": "80cc2b37-8ce3-4b7d-ddf9-a845533572b8"
   },
   "outputs": [
    {
     "data": {
      "text/html": [
       "<div>\n",
       "<style scoped>\n",
       "    .dataframe tbody tr th:only-of-type {\n",
       "        vertical-align: middle;\n",
       "    }\n",
       "\n",
       "    .dataframe tbody tr th {\n",
       "        vertical-align: top;\n",
       "    }\n",
       "\n",
       "    .dataframe thead th {\n",
       "        text-align: right;\n",
       "    }\n",
       "</style>\n",
       "<table border=\"1\" class=\"dataframe\">\n",
       "  <thead>\n",
       "    <tr style=\"text-align: right;\">\n",
       "      <th></th>\n",
       "      <th>Model</th>\n",
       "      <th>Accuracy</th>\n",
       "      <th>F1-Score</th>\n",
       "    </tr>\n",
       "  </thead>\n",
       "  <tbody>\n",
       "    <tr>\n",
       "      <th>1</th>\n",
       "      <td>BiLSTM + GloVe</td>\n",
       "      <td>0.8145</td>\n",
       "      <td>0.8094</td>\n",
       "    </tr>\n",
       "    <tr>\n",
       "      <th>2</th>\n",
       "      <td>BiLSTM + Attention + GloVe</td>\n",
       "      <td>0.8122</td>\n",
       "      <td>0.8063</td>\n",
       "    </tr>\n",
       "    <tr>\n",
       "      <th>3</th>\n",
       "      <td>GRU + GloVe</td>\n",
       "      <td>0.8094</td>\n",
       "      <td>0.8048</td>\n",
       "    </tr>\n",
       "    <tr>\n",
       "      <th>5</th>\n",
       "      <td>BiLSTM + FastText</td>\n",
       "      <td>0.7889</td>\n",
       "      <td>0.7891</td>\n",
       "    </tr>\n",
       "    <tr>\n",
       "      <th>7</th>\n",
       "      <td>GRU + FastText</td>\n",
       "      <td>0.7824</td>\n",
       "      <td>0.7784</td>\n",
       "    </tr>\n",
       "    <tr>\n",
       "      <th>6</th>\n",
       "      <td>BiLSTM + Attention + FastText</td>\n",
       "      <td>0.7766</td>\n",
       "      <td>0.7778</td>\n",
       "    </tr>\n",
       "    <tr>\n",
       "      <th>4</th>\n",
       "      <td>RNN + FastText</td>\n",
       "      <td>0.6441</td>\n",
       "      <td>0.5723</td>\n",
       "    </tr>\n",
       "    <tr>\n",
       "      <th>0</th>\n",
       "      <td>RNN + GloVe</td>\n",
       "      <td>0.6267</td>\n",
       "      <td>0.4829</td>\n",
       "    </tr>\n",
       "  </tbody>\n",
       "</table>\n",
       "</div>"
      ],
      "text/plain": [
       "                           Model  Accuracy  F1-Score\n",
       "1                 BiLSTM + GloVe    0.8145    0.8094\n",
       "2     BiLSTM + Attention + GloVe    0.8122    0.8063\n",
       "3                    GRU + GloVe    0.8094    0.8048\n",
       "5              BiLSTM + FastText    0.7889    0.7891\n",
       "7                 GRU + FastText    0.7824    0.7784\n",
       "6  BiLSTM + Attention + FastText    0.7766    0.7778\n",
       "4                 RNN + FastText    0.6441    0.5723\n",
       "0                    RNN + GloVe    0.6267    0.4829"
      ]
     },
     "execution_count": 226,
     "metadata": {},
     "output_type": "execute_result"
    }
   ],
   "source": [
    "intermediate_results = pd.DataFrame(intermediate_results).T\n",
    "intermediate_results.reset_index(inplace=True)\n",
    "intermediate_results.columns = ['Model', 'Accuracy', 'F1-Score']\n",
    "intermediate_results = intermediate_results.sort_values(by='F1-Score', ascending=False)\n",
    "\n",
    "intermediate_results[['Accuracy', 'F1-Score']] = intermediate_results[['Accuracy', 'F1-Score']].round(4)\n",
    "intermediate_results"
   ]
  },
  {
   "cell_type": "code",
   "execution_count": 114,
   "id": "3e876fe3-c0b4-446b-93a1-fec66367b643",
   "metadata": {
    "colab": {
     "base_uri": "https://localhost:8080/",
     "height": 607
    },
    "execution": {
     "iopub.execute_input": "2025-06-23T19:14:08.601279Z",
     "iopub.status.busy": "2025-06-23T19:14:08.600999Z",
     "iopub.status.idle": "2025-06-23T19:14:08.825462Z",
     "shell.execute_reply": "2025-06-23T19:14:08.824780Z",
     "shell.execute_reply.started": "2025-06-23T19:14:08.601260Z"
    },
    "id": "3e876fe3-c0b4-446b-93a1-fec66367b643",
    "outputId": "741de8c7-df86-4847-9155-0aa364d28a8a"
   },
   "outputs": [
    {
     "data": {
      "image/png": "[encoded data removed]",
      "text/plain": [
       "<Figure size 1000x600 with 1 Axes>"
      ]
     },
     "metadata": {},
     "output_type": "display_data"
    }
   ],
   "source": [
    "plot_history(intermediate_histories[\"BiLSTM + GloVe\"], title=\"BiLSTM + Attention + GloVe\")"
   ]
  },
  {
   "cell_type": "markdown",
   "id": "IwpUfQyzEDW9",
   "metadata": {
    "id": "IwpUfQyzEDW9"
   },
   "source": [
    "## 3.6 Summary of Word Embedding Models\n",
    "\n",
    "In this section, we evaluated multiple deep learning architectures using **pretrained word embeddings** — **GloVe (Twitter 200d)** and **FastText (Wiki-News 300d)** — to assess their effectiveness on tweet sentiment classification.\n",
    "\n",
    "### Observations:\n",
    "\n",
    "- **GloVe embeddings consistently outperformed FastText** across all model types (RNN, LSTM, BiLSTM, etc.). This is likely due to GloVe being trained on Twitter data, making it better suited to the informal, emoji- and hashtag-rich language of tweets.\n",
    "\n",
    "- The **best overall performance** was achieved by:\n",
    "  - `BiLSTM + GloVe`: **Accuracy = 0.8145**, **Weighted F1 = 0.8094**\n",
    "  - `GRU + GloVe`: also performed very well, confirming the effectiveness of GloVe in sequential models.\n",
    "\n",
    "- **FastText embeddings underperformed**, especially in simpler models like RNN or GRU. Although FastText handles rare words via subword units, its training on Wikipedia makes it less effective for social media data.\n",
    "\n",
    "- **Vanilla RNN models** (both GloVe and FastText) showed the weakest performance, emphasizing the need for more expressive architectures like LSTM and BiLSTM.\n",
    "\n",
    "---\n",
    "\n",
    "## Conclusion\n",
    "\n",
    "Pretrained word embeddings (especially **GloVe Twitter**) help improve performance over traditional one-hot representations. However, their capacity is still limited:\n",
    "\n",
    "- They produce **static embeddings** (same vector regardless of context).\n",
    "- They cannot capture **polysemy**, **sarcasm**, or long-range dependencies effectively.\n",
    "\n",
    "---\n",
    "\n",
    "## Next Step: Transformers and State-of-the-Art (SOTA) Models\n",
    "\n",
    "To overcome these limitations and push performance further, we now move on to **transformer-based architectures** (e.g., **BERT**), which provide:\n",
    "\n",
    "- **Contextual word embeddings**\n",
    "- **Self-attention** to capture full-sequence information\n",
    "- **Fine-tuning on downstream tasks** for better generalization\n",
    "\n",
    "These models are expected to set a new performance benchmark on our sentiment classification task.\n"
   ]
  },
  {
   "cell_type": "markdown",
   "id": "tW1CLyOJNEpz",
   "metadata": {
    "id": "tW1CLyOJNEpz"
   },
   "source": [
    "# 4. Transformers and State-of-the-Art Models\n",
    "\n",
    "In this section, we transition from traditional word embeddings (GloVe, FastText) and recurrent models (RNNs, LSTMs, GRUs) to modern transformer-based architectures. Transformers have become the de facto standard in NLP due to their ability to model global context and produce dynamic, context-aware representations of language.\n",
    "\n",
    "The goal of this part is to fine-tune pretrained transformer models on our tweet sentiment classification task and compare their performance to earlier models."
   ]
  },
  {
   "cell_type": "markdown",
   "id": "T0oA-qVDhelV",
   "metadata": {
    "id": "T0oA-qVDhelV"
   },
   "source": [
    "## 4.1 Tokenization, Formatting, and Dataset Splitting\n",
    "\n",
    "Before fine-tuning transformer models, we must prepare the dataset in a format suitable for input into models such as BERT, RoBERTa, or DistilBERT. These models expect tokenized inputs that include:\n",
    "\n",
    "- `input_ids`: token indices from the tokenizer's vocabulary;\n",
    "- `attention_mask`: binary mask indicating which tokens should be attended to;\n",
    "\n",
    "We use the `AutoTokenizer` from Hugging Face to ensure compatibility with each pretrained model. After tokenizing the dataset, we convert it into a PyTorch-ready format. Finally, we split the dataset into training and testing subsets for evaluation."
   ]
  },
  {
   "cell_type": "code",
   "execution_count": 230,
   "id": "z9h6aS5pBmkM",
   "metadata": {
    "execution": {
     "iopub.execute_input": "2025-06-23T21:41:21.042129Z",
     "iopub.status.busy": "2025-06-23T21:41:21.041427Z",
     "iopub.status.idle": "2025-06-23T21:41:21.047485Z",
     "shell.execute_reply": "2025-06-23T21:41:21.046507Z",
     "shell.execute_reply.started": "2025-06-23T21:41:21.042104Z"
    },
    "id": "z9h6aS5pBmkM"
   },
   "outputs": [],
   "source": [
    "class TweetDataset(Dataset):\n",
    "    def __init__(self, hf_dataset):\n",
    "        self.input_ids = hf_dataset[\"input_ids\"]\n",
    "        self.attention_mask = hf_dataset[\"attention_mask\"]\n",
    "        self.labels = hf_dataset[\"label\"]\n",
    "\n",
    "    def __len__(self):\n",
    "        return len(self.input_ids)\n",
    "\n",
    "    def __getitem__(self, idx):\n",
    "        return {\n",
    "            \"input_ids\": torch.tensor(self.input_ids[idx], dtype=torch.long),\n",
    "            \"attention_mask\": torch.tensor(self.attention_mask[idx], dtype=torch.long),\n",
    "            \"label\": torch.tensor(self.labels[idx], dtype=torch.long)\n",
    "        }"
   ]
  },
  {
   "cell_type": "code",
   "execution_count": 138,
   "id": "ac052037-7414-46cd-99a7-d58b4611a570",
   "metadata": {
    "execution": {
     "iopub.execute_input": "2025-06-23T19:20:59.391427Z",
     "iopub.status.busy": "2025-06-23T19:20:59.391177Z",
     "iopub.status.idle": "2025-06-23T19:21:02.813795Z",
     "shell.execute_reply": "2025-06-23T19:21:02.812969Z",
     "shell.execute_reply.started": "2025-06-23T19:20:59.391410Z"
    }
   },
   "outputs": [
    {
     "data": {
      "application/vnd.jupyter.widget-view+json": {
       "model_id": "cfb74d3c08e84561b05c4003a5cfddf1",
       "version_major": 2,
       "version_minor": 0
      },
      "text/plain": [
       "Map:   0%|          | 0/14640 [00:00<?, ? examples/s]"
      ]
     },
     "metadata": {},
     "output_type": "display_data"
    }
   ],
   "source": [
    "from torch.utils.data import Dataset, DataLoader\n",
    "from transformers import AutoTokenizer\n",
    "from datasets import Dataset\n",
    "import torch\n",
    "\n",
    "def tokenize_function(example):\n",
    "    return tokenizer(example[\"text\"], padding=\"max_length\", truncation=True, max_length=128)\n",
    "\n",
    "tokenizer = AutoTokenizer.from_pretrained(\"bert-base-uncased\")\n",
    "hf_dataset = Dataset.from_pandas(df_processed[[\"text\", \"label\"]])\n",
    "tokenized_dataset = hf_dataset.map(tokenize_function, batched=True)\n",
    "dataset_split = tokenized_dataset.train_test_split(test_size=0.2, seed=42)\n",
    "\n",
    "train_dataset = TweetDataset(dataset_split[\"train\"])\n",
    "test_dataset = TweetDataset(dataset_split[\"test\"])\n",
    "\n",
    "train_loader = DataLoader(train_dataset, batch_size=64, shuffle=True)\n",
    "test_loader = DataLoader(test_dataset, batch_size=64)"
   ]
  },
  {
   "cell_type": "markdown",
   "id": "5ECjqK9XsPFA",
   "metadata": {
    "id": "5ECjqK9XsPFA"
   },
   "source": [
    "## 4.2 Model Initialization\n",
    "\n",
    "In this part, we define a reusable transformer-based classifier that we will use for all models (BERT, RoBERTa, DistilBERT, BERTweet).\n",
    "\n",
    "We load a pretrained encoder using `AutoModel`, and manually add a dropout and linear classification head. This gives us full control over the architecture.\n",
    "\n",
    "Depending on the model, we extract either the `pooler_output` or the `[CLS]` token representation from `last_hidden_state`.\n"
   ]
  },
  {
   "cell_type": "code",
   "execution_count": 139,
   "id": "hao3P76RqFHa",
   "metadata": {
    "execution": {
     "iopub.execute_input": "2025-06-23T19:21:02.815426Z",
     "iopub.status.busy": "2025-06-23T19:21:02.815197Z",
     "iopub.status.idle": "2025-06-23T19:21:02.820956Z",
     "shell.execute_reply": "2025-06-23T19:21:02.820173Z",
     "shell.execute_reply.started": "2025-06-23T19:21:02.815405Z"
    },
    "id": "hao3P76RqFHa"
   },
   "outputs": [],
   "source": [
    "from transformers import AutoModel\n",
    "import torch.nn as nn\n",
    "\n",
    "class TransformerClassifier(nn.Module):\n",
    "    def __init__(self, model_name, num_classes=3, dropout=0.3):\n",
    "        super(TransformerClassifier, self).__init__()\n",
    "        self.encoder = AutoModel.from_pretrained(model_name)\n",
    "        hidden_size = self.encoder.config.hidden_size\n",
    "\n",
    "        self.dropout = nn.Dropout(dropout)\n",
    "        self.classifier = nn.Linear(hidden_size, num_classes)\n",
    "\n",
    "    def forward(self, input_ids, attention_mask):\n",
    "        outputs = self.encoder(input_ids=input_ids, attention_mask=attention_mask)\n",
    "\n",
    "        if hasattr(outputs, \"pooler_output\") and outputs.pooler_output is not None:\n",
    "            x = outputs.pooler_output\n",
    "        else:\n",
    "            x = outputs.last_hidden_state[:, 0]\n",
    "\n",
    "        x = self.dropout(x)\n",
    "        return self.classifier(x)"
   ]
  },
  {
   "cell_type": "markdown",
   "id": "7cB-pj022bDy",
   "metadata": {
    "id": "7cB-pj022bDy"
   },
   "source": [
    "## 4.3 Training Setup\n",
    "\n",
    "To maintain consistency with earlier sections, we reuse our custom training pipeline instead of relying on Hugging Face's `Trainer`.\n",
    "\n",
    "This gives us full control over:\n",
    "- Optimizer (AdamW)\n",
    "- Loss function (CrossEntropyLoss)\n",
    "- Training loop logic\n",
    "- Batch structure (input IDs, attention mask, labels)\n",
    "\n",
    "We slightly adapt the training and evaluation functions to work with transformer-specific inputs.\n"
   ]
  },
  {
   "cell_type": "code",
   "execution_count": 140,
   "id": "4rm6xZKazhRR",
   "metadata": {
    "execution": {
     "iopub.execute_input": "2025-06-23T19:21:02.822054Z",
     "iopub.status.busy": "2025-06-23T19:21:02.821805Z",
     "iopub.status.idle": "2025-06-23T19:21:02.848718Z",
     "shell.execute_reply": "2025-06-23T19:21:02.848080Z",
     "shell.execute_reply.started": "2025-06-23T19:21:02.822018Z"
    },
    "id": "4rm6xZKazhRR"
   },
   "outputs": [],
   "source": [
    "from torch.optim import AdamW\n",
    "from torch.nn import CrossEntropyLoss\n",
    "\n",
    "def train_model(model, train_loader, val_loader=None, num_epochs=10, lr=2e-5, device='cuda', patience=3):\n",
    "    model.to(device)\n",
    "    optimizer = AdamW(model.parameters(), lr=lr)\n",
    "    criterion = CrossEntropyLoss()\n",
    "\n",
    "    history = {\n",
    "        \"train_loss\": [],\n",
    "        \"val_loss\": [],\n",
    "        \"val_acc\": [],\n",
    "        \"val_f1\": []\n",
    "    }\n",
    "\n",
    "    best_f1 = 0\n",
    "    epochs_no_improve = 0\n",
    "    best_model_state = None\n",
    "\n",
    "    for epoch in range(num_epochs):\n",
    "        model.train()\n",
    "        total_loss = 0\n",
    "\n",
    "        for batch in tqdm(train_loader, desc=f\"Epoch {epoch + 1}/{num_epochs}\"):\n",
    "            input_ids = batch[\"input_ids\"].to(device)\n",
    "            attention_mask = batch[\"attention_mask\"].to(device)\n",
    "            labels = batch[\"label\"].to(device)\n",
    "\n",
    "            optimizer.zero_grad()\n",
    "            outputs = model(input_ids=input_ids, attention_mask=attention_mask)\n",
    "            loss = criterion(outputs, labels)\n",
    "            loss.backward()\n",
    "            optimizer.step()\n",
    "            total_loss += loss.item()\n",
    "\n",
    "        train_loss = total_loss / len(train_loader)\n",
    "        print(f\"\\nTrain Loss: {train_loss:.4f}\")\n",
    "        history[\"train_loss\"].append(train_loss)\n",
    "\n",
    "        if val_loader is not None:\n",
    "            val_loss, val_acc, val_f1 = evaluate_model(model, val_loader, device)\n",
    "            print(f\"Val Loss: {val_loss:.4f}, Val Accuracy: {val_acc:.4f}, Val F1: {val_f1:.4f}\")\n",
    "\n",
    "            history[\"val_loss\"].append(val_loss)\n",
    "            history[\"val_acc\"].append(val_acc)\n",
    "            history[\"val_f1\"].append(val_f1)\n",
    "\n",
    "            if val_f1 > best_f1:\n",
    "                best_f1 = val_f1\n",
    "                best_model_state = copy.deepcopy(model.state_dict())\n",
    "                epochs_no_improve = 0\n",
    "                print(\"Improvement found, saving model.\")\n",
    "            else:\n",
    "                epochs_no_improve += 1\n",
    "                print(f\"EarlyStopping counter: {epochs_no_improve}/{patience}\")\n",
    "                if epochs_no_improve >= patience:\n",
    "                    print(\"Early stopping triggered.\")\n",
    "                    break\n",
    "\n",
    "    if best_model_state:\n",
    "        model.load_state_dict(best_model_state)\n",
    "\n",
    "    return model, history"
   ]
  },
  {
   "cell_type": "code",
   "execution_count": 141,
   "id": "M20xNNe19Zt2",
   "metadata": {
    "execution": {
     "iopub.execute_input": "2025-06-23T19:21:02.850439Z",
     "iopub.status.busy": "2025-06-23T19:21:02.850198Z",
     "iopub.status.idle": "2025-06-23T19:21:02.873082Z",
     "shell.execute_reply": "2025-06-23T19:21:02.872443Z",
     "shell.execute_reply.started": "2025-06-23T19:21:02.850420Z"
    },
    "id": "M20xNNe19Zt2"
   },
   "outputs": [],
   "source": [
    "def evaluate_model(model, data_loader, device='cuda'):\n",
    "    model.eval()\n",
    "    model.to(device)\n",
    "    y_true, y_pred = [], []\n",
    "    total_loss = 0\n",
    "    criterion = CrossEntropyLoss()\n",
    "\n",
    "    with torch.no_grad():\n",
    "        for batch in data_loader:\n",
    "            input_ids = batch[\"input_ids\"].to(device)\n",
    "            attention_mask = batch[\"attention_mask\"].to(device)\n",
    "            labels = batch[\"label\"].to(device)\n",
    "\n",
    "            outputs = model(input_ids=input_ids, attention_mask=attention_mask)\n",
    "            loss = criterion(outputs, labels)\n",
    "            total_loss += loss.item()\n",
    "\n",
    "            preds = torch.argmax(outputs, dim=1)\n",
    "            y_true.extend(labels.detach().cpu().tolist())\n",
    "            y_pred.extend(preds.detach().cpu().tolist())\n",
    "\n",
    "    acc = accuracy_score(y_true, y_pred)\n",
    "    f1 = f1_score(y_true, y_pred, average=\"weighted\")\n",
    "    avg_loss = total_loss / len(data_loader)\n",
    "    return avg_loss, acc, f1"
   ]
  },
  {
   "cell_type": "code",
   "execution_count": 142,
   "id": "eXqPedIW9d8X",
   "metadata": {
    "execution": {
     "iopub.execute_input": "2025-06-23T19:21:02.982338Z",
     "iopub.status.busy": "2025-06-23T19:21:02.981712Z",
     "iopub.status.idle": "2025-06-23T19:21:02.987674Z",
     "shell.execute_reply": "2025-06-23T19:21:02.987086Z",
     "shell.execute_reply.started": "2025-06-23T19:21:02.982315Z"
    },
    "id": "eXqPedIW9d8X"
   },
   "outputs": [],
   "source": [
    "def train_and_evaluate(name, model_name, train_loader, test_loader, num_classes=3, dropout=0.3, epochs=10, freeze=False):\n",
    "    model = TransformerClassifier(model_name=model_name, num_classes=num_classes, dropout=dropout)\n",
    "    model, history = train_model(model, train_loader, test_loader, num_epochs=epochs)\n",
    "\n",
    "    _, acc, f1 = evaluate_model(model, test_loader)\n",
    "    result = {\"Accuracy\": acc, \"F1-Score\": f1}\n",
    "\n",
    "    print(f\"\\n{name} Results:\\nAccuracy: {acc:.4f}, Weighted F1: {f1:.4f}\")\n",
    "    return name, result, history"
   ]
  },
  {
   "cell_type": "markdown",
   "id": "TvTPNopS9oxb",
   "metadata": {
    "id": "TvTPNopS9oxb"
   },
   "source": [
    "## 4.4 Training Transformer Models\n",
    "\n",
    "We now train and evaluate the selected transformer-based models using our custom training pipeline.\n",
    "\n",
    "Each model is initialized using its corresponding pretrained weights and trained on the same dataset split and hyperparameters to ensure fairness.\n",
    "\n",
    "Models:\n",
    "- BERT (bert-base-uncased)\n",
    "- RoBERTa (roberta-base)\n",
    "- DistilBERT (distilbert-base-uncased)\n",
    "\n",
    "Results are saved in a dictionary for comparison.\n"
   ]
  },
  {
   "cell_type": "code",
   "execution_count": 152,
   "id": "D2gEYJ_a4ik7",
   "metadata": {
    "execution": {
     "iopub.execute_input": "2025-06-23T20:54:28.992764Z",
     "iopub.status.busy": "2025-06-23T20:54:28.992261Z",
     "iopub.status.idle": "2025-06-23T20:54:28.996459Z",
     "shell.execute_reply": "2025-06-23T20:54:28.995700Z",
     "shell.execute_reply.started": "2025-06-23T20:54:28.992740Z"
    },
    "id": "D2gEYJ_a4ik7"
   },
   "outputs": [],
   "source": [
    "bert_results = {}\n",
    "bert_histories = {}"
   ]
  },
  {
   "cell_type": "code",
   "execution_count": 146,
   "id": "ec36d04f-3680-47c9-8c21-5fdb35b9ddf7",
   "metadata": {
    "execution": {
     "iopub.execute_input": "2025-06-23T19:21:46.094657Z",
     "iopub.status.busy": "2025-06-23T19:21:46.094387Z",
     "iopub.status.idle": "2025-06-23T19:46:50.890664Z",
     "shell.execute_reply": "2025-06-23T19:46:50.889652Z",
     "shell.execute_reply.started": "2025-06-23T19:21:46.094636Z"
    }
   },
   "outputs": [
    {
     "name": "stderr",
     "output_type": "stream",
     "text": [
      "Epoch 1/10: 100%|██████████| 183/183 [03:47<00:00,  1.24s/it]\n"
     ]
    },
    {
     "name": "stdout",
     "output_type": "stream",
     "text": [
      "\n",
      "Train Loss: 0.5713\n",
      "Val Loss: 0.4073, Val Accuracy: 0.8378, Val F1: 0.8396\n",
      "Improvement found, saving model.\n"
     ]
    },
    {
     "name": "stderr",
     "output_type": "stream",
     "text": [
      "Epoch 2/10: 100%|██████████| 183/183 [03:46<00:00,  1.24s/it]\n"
     ]
    },
    {
     "name": "stdout",
     "output_type": "stream",
     "text": [
      "\n",
      "Train Loss: 0.3412\n",
      "Val Loss: 0.3987, Val Accuracy: 0.8473, Val F1: 0.8449\n",
      "Improvement found, saving model.\n"
     ]
    },
    {
     "name": "stderr",
     "output_type": "stream",
     "text": [
      "Epoch 3/10: 100%|██████████| 183/183 [03:46<00:00,  1.24s/it]\n"
     ]
    },
    {
     "name": "stdout",
     "output_type": "stream",
     "text": [
      "\n",
      "Train Loss: 0.2418\n",
      "Val Loss: 0.4176, Val Accuracy: 0.8525, Val F1: 0.8505\n",
      "Improvement found, saving model.\n"
     ]
    },
    {
     "name": "stderr",
     "output_type": "stream",
     "text": [
      "Epoch 4/10: 100%|██████████| 183/183 [03:46<00:00,  1.24s/it]\n"
     ]
    },
    {
     "name": "stdout",
     "output_type": "stream",
     "text": [
      "\n",
      "Train Loss: 0.1604\n",
      "Val Loss: 0.5088, Val Accuracy: 0.8460, Val F1: 0.8450\n",
      "EarlyStopping counter: 1/3\n"
     ]
    },
    {
     "name": "stderr",
     "output_type": "stream",
     "text": [
      "Epoch 5/10: 100%|██████████| 183/183 [03:46<00:00,  1.24s/it]\n"
     ]
    },
    {
     "name": "stdout",
     "output_type": "stream",
     "text": [
      "\n",
      "Train Loss: 0.0998\n",
      "Val Loss: 0.5657, Val Accuracy: 0.8436, Val F1: 0.8436\n",
      "EarlyStopping counter: 2/3\n"
     ]
    },
    {
     "name": "stderr",
     "output_type": "stream",
     "text": [
      "Epoch 6/10: 100%|██████████| 183/183 [03:46<00:00,  1.24s/it]\n"
     ]
    },
    {
     "name": "stdout",
     "output_type": "stream",
     "text": [
      "\n",
      "Train Loss: 0.0776\n",
      "Val Loss: 0.5881, Val Accuracy: 0.8494, Val F1: 0.8495\n",
      "EarlyStopping counter: 3/3\n",
      "Early stopping triggered.\n",
      "\n",
      "BERT Results:\n",
      "Accuracy: 0.8525, Weighted F1: 0.8505\n"
     ]
    }
   ],
   "source": [
    "# BERT\n",
    "name, result, history = train_and_evaluate(\"BERT\", \"bert-base-uncased\", train_loader, test_loader)\n",
    "bert_results[name] = result\n",
    "bert_histories[name] = history"
   ]
  },
  {
   "cell_type": "code",
   "execution_count": 147,
   "id": "r0BKXqjwzkf8",
   "metadata": {
    "execution": {
     "iopub.execute_input": "2025-06-23T19:46:50.892112Z",
     "iopub.status.busy": "2025-06-23T19:46:50.891853Z",
     "iopub.status.idle": "2025-06-23T20:16:01.260927Z",
     "shell.execute_reply": "2025-06-23T20:16:01.259771Z",
     "shell.execute_reply.started": "2025-06-23T19:46:50.892090Z"
    },
    "id": "r0BKXqjwzkf8"
   },
   "outputs": [
    {
     "name": "stderr",
     "output_type": "stream",
     "text": [
      "Some weights of RobertaModel were not initialized from the model checkpoint at roberta-base and are newly initialized: ['pooler.dense.bias', 'pooler.dense.weight']\n",
      "You should probably TRAIN this model on a down-stream task to be able to use it for predictions and inference.\n",
      "Epoch 1/10: 100%|██████████| 183/183 [03:47<00:00,  1.24s/it]\n"
     ]
    },
    {
     "name": "stdout",
     "output_type": "stream",
     "text": [
      "\n",
      "Train Loss: 0.7966\n",
      "Val Loss: 0.6845, Val Accuracy: 0.7189, Val F1: 0.7199\n",
      "Improvement found, saving model.\n"
     ]
    },
    {
     "name": "stderr",
     "output_type": "stream",
     "text": [
      "Epoch 2/10: 100%|██████████| 183/183 [03:46<00:00,  1.24s/it]\n"
     ]
    },
    {
     "name": "stdout",
     "output_type": "stream",
     "text": [
      "\n",
      "Train Loss: 0.6197\n",
      "Val Loss: 0.5935, Val Accuracy: 0.7671, Val F1: 0.7530\n",
      "Improvement found, saving model.\n"
     ]
    },
    {
     "name": "stderr",
     "output_type": "stream",
     "text": [
      "Epoch 3/10: 100%|██████████| 183/183 [03:46<00:00,  1.24s/it]\n"
     ]
    },
    {
     "name": "stdout",
     "output_type": "stream",
     "text": [
      "\n",
      "Train Loss: 0.5411\n",
      "Val Loss: 0.5656, Val Accuracy: 0.7725, Val F1: 0.7666\n",
      "Improvement found, saving model.\n"
     ]
    },
    {
     "name": "stderr",
     "output_type": "stream",
     "text": [
      "Epoch 4/10: 100%|██████████| 183/183 [03:46<00:00,  1.24s/it]\n"
     ]
    },
    {
     "name": "stdout",
     "output_type": "stream",
     "text": [
      "\n",
      "Train Loss: 0.4717\n",
      "Val Loss: 0.5556, Val Accuracy: 0.7783, Val F1: 0.7770\n",
      "Improvement found, saving model.\n"
     ]
    },
    {
     "name": "stderr",
     "output_type": "stream",
     "text": [
      "Epoch 5/10: 100%|██████████| 183/183 [03:47<00:00,  1.24s/it]\n"
     ]
    },
    {
     "name": "stdout",
     "output_type": "stream",
     "text": [
      "\n",
      "Train Loss: 0.4119\n",
      "Val Loss: 0.6072, Val Accuracy: 0.7702, Val F1: 0.7764\n",
      "EarlyStopping counter: 1/3\n"
     ]
    },
    {
     "name": "stderr",
     "output_type": "stream",
     "text": [
      "Epoch 6/10: 100%|██████████| 183/183 [03:47<00:00,  1.24s/it]\n"
     ]
    },
    {
     "name": "stdout",
     "output_type": "stream",
     "text": [
      "\n",
      "Train Loss: 0.3578\n",
      "Val Loss: 0.5791, Val Accuracy: 0.7835, Val F1: 0.7770\n",
      "EarlyStopping counter: 2/3\n"
     ]
    },
    {
     "name": "stderr",
     "output_type": "stream",
     "text": [
      "Epoch 7/10: 100%|██████████| 183/183 [03:46<00:00,  1.24s/it]\n"
     ]
    },
    {
     "name": "stdout",
     "output_type": "stream",
     "text": [
      "\n",
      "Train Loss: 0.3062\n",
      "Val Loss: 0.5922, Val Accuracy: 0.7797, Val F1: 0.7761\n",
      "EarlyStopping counter: 3/3\n",
      "Early stopping triggered.\n",
      "\n",
      "RoBERTa Results:\n",
      "Accuracy: 0.7783, Weighted F1: 0.7770\n"
     ]
    }
   ],
   "source": [
    "# RoBERTa\n",
    "name, result, history = train_and_evaluate(\"RoBERTa\", \"roberta-base\", train_loader, test_loader)\n",
    "bert_results[name] = result\n",
    "bert_histories[name] = history"
   ]
  },
  {
   "cell_type": "code",
   "execution_count": 151,
   "id": "tHPEhlp4LLRA",
   "metadata": {
    "execution": {
     "iopub.execute_input": "2025-06-23T20:33:50.936834Z",
     "iopub.status.busy": "2025-06-23T20:33:50.936564Z",
     "iopub.status.idle": "2025-06-23T20:46:27.781870Z",
     "shell.execute_reply": "2025-06-23T20:46:27.781074Z",
     "shell.execute_reply.started": "2025-06-23T20:33:50.936814Z"
    },
    "id": "tHPEhlp4LLRA"
   },
   "outputs": [
    {
     "name": "stderr",
     "output_type": "stream",
     "text": [
      "Epoch 1/10: 100%|██████████| 183/183 [01:54<00:00,  1.60it/s]\n"
     ]
    },
    {
     "name": "stdout",
     "output_type": "stream",
     "text": [
      "\n",
      "Train Loss: 0.5288\n",
      "Val Loss: 0.4276, Val Accuracy: 0.8303, Val F1: 0.8217\n",
      "Improvement found, saving model.\n"
     ]
    },
    {
     "name": "stderr",
     "output_type": "stream",
     "text": [
      "Epoch 2/10: 100%|██████████| 183/183 [01:54<00:00,  1.60it/s]\n"
     ]
    },
    {
     "name": "stdout",
     "output_type": "stream",
     "text": [
      "\n",
      "Train Loss: 0.3592\n",
      "Val Loss: 0.4154, Val Accuracy: 0.8453, Val F1: 0.8407\n",
      "Improvement found, saving model.\n"
     ]
    },
    {
     "name": "stderr",
     "output_type": "stream",
     "text": [
      "Epoch 3/10: 100%|██████████| 183/183 [01:54<00:00,  1.61it/s]\n"
     ]
    },
    {
     "name": "stdout",
     "output_type": "stream",
     "text": [
      "\n",
      "Train Loss: 0.2676\n",
      "Val Loss: 0.4285, Val Accuracy: 0.8395, Val F1: 0.8416\n",
      "Improvement found, saving model.\n"
     ]
    },
    {
     "name": "stderr",
     "output_type": "stream",
     "text": [
      "Epoch 4/10: 100%|██████████| 183/183 [01:53<00:00,  1.61it/s]\n"
     ]
    },
    {
     "name": "stdout",
     "output_type": "stream",
     "text": [
      "\n",
      "Train Loss: 0.1839\n",
      "Val Loss: 0.5049, Val Accuracy: 0.8426, Val F1: 0.8380\n",
      "EarlyStopping counter: 1/3\n"
     ]
    },
    {
     "name": "stderr",
     "output_type": "stream",
     "text": [
      "Epoch 5/10: 100%|██████████| 183/183 [01:53<00:00,  1.61it/s]\n"
     ]
    },
    {
     "name": "stdout",
     "output_type": "stream",
     "text": [
      "\n",
      "Train Loss: 0.1214\n",
      "Val Loss: 0.5723, Val Accuracy: 0.8422, Val F1: 0.8376\n",
      "EarlyStopping counter: 2/3\n"
     ]
    },
    {
     "name": "stderr",
     "output_type": "stream",
     "text": [
      "Epoch 6/10: 100%|██████████| 183/183 [01:54<00:00,  1.61it/s]\n"
     ]
    },
    {
     "name": "stdout",
     "output_type": "stream",
     "text": [
      "\n",
      "Train Loss: 0.0865\n",
      "Val Loss: 0.6300, Val Accuracy: 0.8320, Val F1: 0.8318\n",
      "EarlyStopping counter: 3/3\n",
      "Early stopping triggered.\n",
      "\n",
      "DistilBERT Results:\n",
      "Accuracy: 0.8395, Weighted F1: 0.8416\n"
     ]
    }
   ],
   "source": [
    "# DistilBERT\n",
    "name, result, history = train_and_evaluate(\"DistilBERT\", \"distilbert-base-uncased\", train_loader, test_loader)\n",
    "bert_results[name] = result\n",
    "bert_histories[name] = history"
   ]
  },
  {
   "cell_type": "code",
   "execution_count": 169,
   "id": "6f99d02e-99d5-4ead-bc9d-3baefe8bb8b5",
   "metadata": {
    "execution": {
     "iopub.execute_input": "2025-06-23T20:58:31.676669Z",
     "iopub.status.busy": "2025-06-23T20:58:31.675905Z",
     "iopub.status.idle": "2025-06-23T20:58:31.686914Z",
     "shell.execute_reply": "2025-06-23T20:58:31.686082Z",
     "shell.execute_reply.started": "2025-06-23T20:58:31.676644Z"
    },
    "id": "6f99d02e-99d5-4ead-bc9d-3baefe8bb8b5",
    "outputId": "69ccb419-bf63-4ae7-d9ee-194f613420fa"
   },
   "outputs": [
    {
     "data": {
      "text/html": [
       "<div>\n",
       "<style scoped>\n",
       "    .dataframe tbody tr th:only-of-type {\n",
       "        vertical-align: middle;\n",
       "    }\n",
       "\n",
       "    .dataframe tbody tr th {\n",
       "        vertical-align: top;\n",
       "    }\n",
       "\n",
       "    .dataframe thead th {\n",
       "        text-align: right;\n",
       "    }\n",
       "</style>\n",
       "<table border=\"1\" class=\"dataframe\">\n",
       "  <thead>\n",
       "    <tr style=\"text-align: right;\">\n",
       "      <th></th>\n",
       "      <th>Model</th>\n",
       "      <th>Accuracy</th>\n",
       "      <th>F1-Score</th>\n",
       "    </tr>\n",
       "  </thead>\n",
       "  <tbody>\n",
       "    <tr>\n",
       "      <th>0</th>\n",
       "      <td>BERT</td>\n",
       "      <td>0.8525</td>\n",
       "      <td>0.8505</td>\n",
       "    </tr>\n",
       "    <tr>\n",
       "      <th>1</th>\n",
       "      <td>DistilBERT</td>\n",
       "      <td>0.8395</td>\n",
       "      <td>0.8416</td>\n",
       "    </tr>\n",
       "    <tr>\n",
       "      <th>2</th>\n",
       "      <td>RoBERTa</td>\n",
       "      <td>0.7783</td>\n",
       "      <td>0.7770</td>\n",
       "    </tr>\n",
       "  </tbody>\n",
       "</table>\n",
       "</div>"
      ],
      "text/plain": [
       "        Model  Accuracy  F1-Score\n",
       "0        BERT    0.8525    0.8505\n",
       "1  DistilBERT    0.8395    0.8416\n",
       "2     RoBERTa    0.7783    0.7770"
      ]
     },
     "execution_count": 169,
     "metadata": {},
     "output_type": "execute_result"
    }
   ],
   "source": [
    "bert_final_results = pd.DataFrame.from_dict(bert_results, orient='index')\n",
    "bert_final_results.index.name = 'Model'\n",
    "bert_final_results.reset_index(inplace=True)\n",
    "\n",
    "# Sorting by F1-Score\n",
    "bert_final_results = bert_final_results.sort_values(by='F1-Score', ascending=False).reset_index(drop=True)\n",
    "bert_final_results"
   ]
  },
  {
   "cell_type": "markdown",
   "id": "8953bfc6-1043-4696-9668-28d7fc7d8ded",
   "metadata": {
    "id": "8953bfc6-1043-4696-9668-28d7fc7d8ded"
   },
   "source": [
    "## 4.5 Results on BERTs training\n",
    "\n",
    "In this section, we fine-tuned multiple transformer models on the sentiment analysis task for tweets. The models tested include:\n",
    "\n",
    "- **BERT (bert-base-uncased)**\n",
    "- **DistilBERT (distilbert-base-uncased)**\n",
    "- **RoBERTa (roberta-base)**\n",
    "\n",
    "The models were trained and evaluated using the same preprocessed dataset, and the results were compared based on **accuracy** and **weighted F1-score**, which balances performance across different classes (negative, neutral, positive).\n",
    "\n",
    "#### Key Observations:\n",
    "- **BERT** achieved the highest performance, with an accuracy of 85.25% and a weighted F1-score of 85.05%. This indicates that BERT, despite being a larger model, provides a strong understanding of sentiment within the dataset.\n",
    "- **DistilBERT**, a smaller version of BERT, performed similarly, with an accuracy of 83.95% and a weighted F1-score of 84.16%. This shows that even with fewer parameters, DistilBERT maintains competitive performance.\n",
    "- **RoBERTa**, which is considered an optimized version of BERT, performed the lowest among the models tested, with an accuracy of 77.83% and a weighted F1-score of 77.70%. While still strong, RoBERTa does not surpass BERT on this task.\n"
   ]
  },
  {
   "cell_type": "markdown",
   "id": "f9c4a1b2-5fb6-40f8-85b4-b1a247c7e414",
   "metadata": {
    "id": "f9c4a1b2-5fb6-40f8-85b4-b1a247c7e414"
   },
   "source": [
    "# 5. Conclusion"
   ]
  },
  {
   "cell_type": "markdown",
   "id": "bcf97b2d-b5fc-4cf7-8fac-9b0a5e30afdb",
   "metadata": {},
   "source": [
    "In this project, we evaluated multiple models and their performances using different feature extraction methods, including pre-trained embeddings and traditional techniques. The models were tested on a sentiment analysis task, with accuracy and F1-score being the key evaluation metrics.\n",
    "\n",
    "### Key Findings:\n",
    "1. **BERT** achieved the highest performance, with an accuracy of 85.25% and an F1-score of 85.05%, outperforming other models.\n",
    "2. **DistilBERT** followed closely with an accuracy of 83.95% and an F1-score of 84.16%.\n",
    "3. **BiLSTM + GloVe** and **GRU + GloVe** also performed well with F1-scores of 80.94% and 80.48%, respectively.\n",
    "4. Among traditional models, **Logistic Regression** and **SVM** with **BoW** showed competitive results with accuracy values of 80.29% and 79.92%, respectively.\n",
    "5. The lower-performing models, such as **RNN + GloVe** and **Naive Bayes**, demonstrated lower accuracy and F1-scores, especially with embeddings like FastText.\n",
    "\n",
    "### Best Model:\n",
    "The best performing model in our experiments was **BERT**, followed by **DistilBERT** and **BiLSTM + GloVe**. This suggests that transformer-based models, especially BERT, are highly effective for sentiment analysis tasks. The performance gains from using pre-trained embeddings like GloVe and FastText were notable but not as impactful as using transformers like BERT.\n",
    "\n",
    "### Future Work:\n",
    "Future experiments could focus on fine-tuning these transformer-based models with domain-specific data or exploring other advanced techniques like **transformer-based attention mechanisms** or **ensemble methods** to further improve model performance."
   ]
  },
  {
   "cell_type": "code",
   "execution_count": 227,
   "id": "c05624eb-a450-455b-90a6-bb3af7a3484f",
   "metadata": {
    "execution": {
     "iopub.execute_input": "2025-06-23T21:16:24.800187Z",
     "iopub.status.busy": "2025-06-23T21:16:24.799473Z",
     "iopub.status.idle": "2025-06-23T21:16:24.811194Z",
     "shell.execute_reply": "2025-06-23T21:16:24.810528Z",
     "shell.execute_reply.started": "2025-06-23T21:16:24.800161Z"
    },
    "id": "c05624eb-a450-455b-90a6-bb3af7a3484f",
    "outputId": "783a6965-366f-4f03-b032-939140d48e23"
   },
   "outputs": [
    {
     "data": {
      "text/html": [
       "<div>\n",
       "<style scoped>\n",
       "    .dataframe tbody tr th:only-of-type {\n",
       "        vertical-align: middle;\n",
       "    }\n",
       "\n",
       "    .dataframe tbody tr th {\n",
       "        vertical-align: top;\n",
       "    }\n",
       "\n",
       "    .dataframe thead th {\n",
       "        text-align: right;\n",
       "    }\n",
       "</style>\n",
       "<table border=\"1\" class=\"dataframe\">\n",
       "  <thead>\n",
       "    <tr style=\"text-align: right;\">\n",
       "      <th></th>\n",
       "      <th>Model</th>\n",
       "      <th>Accuracy</th>\n",
       "      <th>F1-Score</th>\n",
       "    </tr>\n",
       "  </thead>\n",
       "  <tbody>\n",
       "    <tr>\n",
       "      <th>0</th>\n",
       "      <td>BERT</td>\n",
       "      <td>0.8525</td>\n",
       "      <td>0.8505</td>\n",
       "    </tr>\n",
       "    <tr>\n",
       "      <th>1</th>\n",
       "      <td>DistilBERT</td>\n",
       "      <td>0.8395</td>\n",
       "      <td>0.8416</td>\n",
       "    </tr>\n",
       "    <tr>\n",
       "      <th>2</th>\n",
       "      <td>BiLSTM + GloVe</td>\n",
       "      <td>0.8145</td>\n",
       "      <td>0.8094</td>\n",
       "    </tr>\n",
       "    <tr>\n",
       "      <th>3</th>\n",
       "      <td>BiLSTM + Attention + GloVe</td>\n",
       "      <td>0.8122</td>\n",
       "      <td>0.8063</td>\n",
       "    </tr>\n",
       "    <tr>\n",
       "      <th>4</th>\n",
       "      <td>GRU + GloVe</td>\n",
       "      <td>0.8094</td>\n",
       "      <td>0.8048</td>\n",
       "    </tr>\n",
       "    <tr>\n",
       "      <th>5</th>\n",
       "      <td>Logistic Regression + BoW</td>\n",
       "      <td>0.8029</td>\n",
       "      <td>0.7996</td>\n",
       "    </tr>\n",
       "    <tr>\n",
       "      <th>6</th>\n",
       "      <td>SVM + BoW</td>\n",
       "      <td>0.7992</td>\n",
       "      <td>0.7957</td>\n",
       "    </tr>\n",
       "    <tr>\n",
       "      <th>7</th>\n",
       "      <td>Logistic Regression + TF-IDF</td>\n",
       "      <td>0.7999</td>\n",
       "      <td>0.7948</td>\n",
       "    </tr>\n",
       "    <tr>\n",
       "      <th>8</th>\n",
       "      <td>SVM + TF-IDF</td>\n",
       "      <td>0.7985</td>\n",
       "      <td>0.7905</td>\n",
       "    </tr>\n",
       "    <tr>\n",
       "      <th>9</th>\n",
       "      <td>BiLSTM + FastText</td>\n",
       "      <td>0.7889</td>\n",
       "      <td>0.7891</td>\n",
       "    </tr>\n",
       "    <tr>\n",
       "      <th>10</th>\n",
       "      <td>GRU + FastText</td>\n",
       "      <td>0.7824</td>\n",
       "      <td>0.7784</td>\n",
       "    </tr>\n",
       "    <tr>\n",
       "      <th>11</th>\n",
       "      <td>BiLSTM + Attention + FastText</td>\n",
       "      <td>0.7766</td>\n",
       "      <td>0.7778</td>\n",
       "    </tr>\n",
       "    <tr>\n",
       "      <th>12</th>\n",
       "      <td>RoBERTa</td>\n",
       "      <td>0.7783</td>\n",
       "      <td>0.7770</td>\n",
       "    </tr>\n",
       "    <tr>\n",
       "      <th>13</th>\n",
       "      <td>Naive Bayes + BoW</td>\n",
       "      <td>0.7691</td>\n",
       "      <td>0.7628</td>\n",
       "    </tr>\n",
       "    <tr>\n",
       "      <th>14</th>\n",
       "      <td>Naive Bayes + TF-IDF</td>\n",
       "      <td>0.7439</td>\n",
       "      <td>0.7522</td>\n",
       "    </tr>\n",
       "    <tr>\n",
       "      <th>15</th>\n",
       "      <td>RNN + FastText</td>\n",
       "      <td>0.6441</td>\n",
       "      <td>0.5723</td>\n",
       "    </tr>\n",
       "    <tr>\n",
       "      <th>16</th>\n",
       "      <td>RNN + GloVe</td>\n",
       "      <td>0.6267</td>\n",
       "      <td>0.4829</td>\n",
       "    </tr>\n",
       "  </tbody>\n",
       "</table>\n",
       "</div>"
      ],
      "text/plain": [
       "                            Model  Accuracy  F1-Score\n",
       "0                            BERT    0.8525    0.8505\n",
       "1                      DistilBERT    0.8395    0.8416\n",
       "2                  BiLSTM + GloVe    0.8145    0.8094\n",
       "3      BiLSTM + Attention + GloVe    0.8122    0.8063\n",
       "4                     GRU + GloVe    0.8094    0.8048\n",
       "5       Logistic Regression + BoW    0.8029    0.7996\n",
       "6                       SVM + BoW    0.7992    0.7957\n",
       "7    Logistic Regression + TF-IDF    0.7999    0.7948\n",
       "8                    SVM + TF-IDF    0.7985    0.7905\n",
       "9               BiLSTM + FastText    0.7889    0.7891\n",
       "10                 GRU + FastText    0.7824    0.7784\n",
       "11  BiLSTM + Attention + FastText    0.7766    0.7778\n",
       "12                        RoBERTa    0.7783    0.7770\n",
       "13              Naive Bayes + BoW    0.7691    0.7628\n",
       "14           Naive Bayes + TF-IDF    0.7439    0.7522\n",
       "15                 RNN + FastText    0.6441    0.5723\n",
       "16                    RNN + GloVe    0.6267    0.4829"
      ]
     },
     "execution_count": 227,
     "metadata": {},
     "output_type": "execute_result"
    }
   ],
   "source": [
    "base_results = base_results.reset_index(drop=True)\n",
    "best_results = pd.concat([base_results, intermediate_results, bert_final_results])\n",
    "best_results = best_results.sort_values(by='F1-Score', ascending=False).reset_index(drop=True)\n",
    "best_results"
   ]
  }
 ],
 "metadata": {
  "accelerator": "GPU",
  "colab": {
   "collapsed_sections": [
    "rgTCPuW3I_2O",
    "tg_m27xRO-l8"
   ],
   "gpuType": "T4",
   "provenance": []
  },
  "kaggle": {
   "accelerator": "nvidiaTeslaT4",
   "dataSources": [
    {
     "datasetId": 38310,
     "sourceId": 58310,
     "sourceType": "datasetVersion"
    },
    {
     "datasetId": 17,
     "sourceId": 742210,
     "sourceType": "datasetVersion"
    },
    {
     "datasetId": 7725913,
     "sourceId": 12260474,
     "sourceType": "datasetVersion"
    }
   ],
   "dockerImageVersionId": 31040,
   "isGpuEnabled": true,
   "isInternetEnabled": true,
   "language": "python",
   "sourceType": "notebook"
  },
  "kernelspec": {
   "display_name": "Python 3 (ipykernel)",
   "language": "python",
   "name": "python3"
  },
  "language_info": {
   "codemirror_mode": {
    "name": "ipython",
    "version": 3
   },
   "file_extension": ".py",
   "mimetype": "text/x-python",
   "name": "python",
   "nbconvert_exporter": "python",
   "pygments_lexer": "ipython3",
   "version": "3.13.7"
  },
  "widgets": {
   "application/vnd.jupyter.widget-state+json": {
    "02ba61980bf147328409c5cc472cbf2a": {
     "model_module": "@jupyter-widgets/controls",
     "model_module_version": "1.5.0",
     "model_name": "HTMLModel",
     "state": {
      "_dom_classes": [],
      "_model_module": "@jupyter-widgets/controls",
      "_model_module_version": "1.5.0",
      "_model_name": "HTMLModel",
      "_view_count": null,
      "_view_module": "@jupyter-widgets/controls",
      "_view_module_version": "1.5.0",
      "_view_name": "HTMLView",
      "description": "",
      "description_tooltip": null,
      "layout": "IPY_MODEL_4c3a2f3f06ca4bc5b4523233e4702745",
      "placeholder": "​",
      "style": "IPY_MODEL_c16d0827e97b414f91a5af72f3592613",
      "value": "Map: 100%"
     }
    },
    "0c9012fd526343d7813eafe1aba947e7": {
     "model_module": "@jupyter-widgets/base",
     "model_module_version": "1.2.0",
     "model_name": "LayoutModel",
     "state": {
      "_model_module": "@jupyter-widgets/base",
      "_model_module_version": "1.2.0",
      "_model_name": "LayoutModel",
      "_view_count": null,
      "_view_module": "@jupyter-widgets/base",
      "_view_module_version": "1.2.0",
      "_view_name": "LayoutView",
      "align_content": null,
      "align_items": null,
      "align_self": null,
      "border": null,
      "bottom": null,
      "display": null,
      "flex": null,
      "flex_flow": null,
      "grid_area": null,
      "grid_auto_columns": null,
      "grid_auto_flow": null,
      "grid_auto_rows": null,
      "grid_column": null,
      "grid_gap": null,
      "grid_row": null,
      "grid_template_areas": null,
      "grid_template_columns": null,
      "grid_template_rows": null,
      "height": null,
      "justify_content": null,
      "justify_items": null,
      "left": null,
      "margin": null,
      "max_height": null,
      "max_width": null,
      "min_height": null,
      "min_width": null,
      "object_fit": null,
      "object_position": null,
      "order": null,
      "overflow": null,
      "overflow_x": null,
      "overflow_y": null,
      "padding": null,
      "right": null,
      "top": null,
      "visibility": null,
      "width": null
     }
    },
    "0d77df00bc4f468d85e14c65d02ae5ec": {
     "model_module": "@jupyter-widgets/controls",
     "model_module_version": "1.5.0",
     "model_name": "HBoxModel",
     "state": {
      "_dom_classes": [],
      "_model_module": "@jupyter-widgets/controls",
      "_model_module_version": "1.5.0",
      "_model_name": "HBoxModel",
      "_view_count": null,
      "_view_module": "@jupyter-widgets/controls",
      "_view_module_version": "1.5.0",
      "_view_name": "HBoxView",
      "box_style": "",
      "children": [
       "IPY_MODEL_02ba61980bf147328409c5cc472cbf2a",
       "IPY_MODEL_786da8a494d84e48b4607005f13404a3",
       "IPY_MODEL_7b49d086c53c41cdbe4642a3b88c12f8"
      ],
      "layout": "IPY_MODEL_6305570dc74740c8923c92cbd896f561"
     }
    },
    "1e8352a6b3fe42479efa678edd9ea2ca": {
     "model_module": "@jupyter-widgets/controls",
     "model_module_version": "1.5.0",
     "model_name": "HTMLModel",
     "state": {
      "_dom_classes": [],
      "_model_module": "@jupyter-widgets/controls",
      "_model_module_version": "1.5.0",
      "_model_name": "HTMLModel",
      "_view_count": null,
      "_view_module": "@jupyter-widgets/controls",
      "_view_module_version": "1.5.0",
      "_view_name": "HTMLView",
      "description": "",
      "description_tooltip": null,
      "layout": "IPY_MODEL_ea047f1e03b541aab99da99710cb58f8",
      "placeholder": "​",
      "style": "IPY_MODEL_9241829188c24f328880688ed885d261",
      "value": " 14640/14640 [00:05&lt;00:00, 3469.78 examples/s]"
     }
    },
    "37655e5765f14fedb259f8b83b0c057b": {
     "model_module": "@jupyter-widgets/controls",
     "model_module_version": "1.5.0",
     "model_name": "HTMLModel",
     "state": {
      "_dom_classes": [],
      "_model_module": "@jupyter-widgets/controls",
      "_model_module_version": "1.5.0",
      "_model_name": "HTMLModel",
      "_view_count": null,
      "_view_module": "@jupyter-widgets/controls",
      "_view_module_version": "1.5.0",
      "_view_name": "HTMLView",
      "description": "",
      "description_tooltip": null,
      "layout": "IPY_MODEL_7534443eda7048419822b78dff6b3f7e",
      "placeholder": "​",
      "style": "IPY_MODEL_b5de8c3ddfd7480881a53fa32fe2f128",
      "value": "Map: 100%"
     }
    },
    "4b9dfce1139d4d328f93c789b9b51d65": {
     "model_module": "@jupyter-widgets/controls",
     "model_module_version": "1.5.0",
     "model_name": "ProgressStyleModel",
     "state": {
      "_model_module": "@jupyter-widgets/controls",
      "_model_module_version": "1.5.0",
      "_model_name": "ProgressStyleModel",
      "_view_count": null,
      "_view_module": "@jupyter-widgets/base",
      "_view_module_version": "1.2.0",
      "_view_name": "StyleView",
      "bar_color": null,
      "description_width": ""
     }
    },
    "4c3a2f3f06ca4bc5b4523233e4702745": {
     "model_module": "@jupyter-widgets/base",
     "model_module_version": "1.2.0",
     "model_name": "LayoutModel",
     "state": {
      "_model_module": "@jupyter-widgets/base",
      "_model_module_version": "1.2.0",
      "_model_name": "LayoutModel",
      "_view_count": null,
      "_view_module": "@jupyter-widgets/base",
      "_view_module_version": "1.2.0",
      "_view_name": "LayoutView",
      "align_content": null,
      "align_items": null,
      "align_self": null,
      "border": null,
      "bottom": null,
      "display": null,
      "flex": null,
      "flex_flow": null,
      "grid_area": null,
      "grid_auto_columns": null,
      "grid_auto_flow": null,
      "grid_auto_rows": null,
      "grid_column": null,
      "grid_gap": null,
      "grid_row": null,
      "grid_template_areas": null,
      "grid_template_columns": null,
      "grid_template_rows": null,
      "height": null,
      "justify_content": null,
      "justify_items": null,
      "left": null,
      "margin": null,
      "max_height": null,
      "max_width": null,
      "min_height": null,
      "min_width": null,
      "object_fit": null,
      "object_position": null,
      "order": null,
      "overflow": null,
      "overflow_x": null,
      "overflow_y": null,
      "padding": null,
      "right": null,
      "top": null,
      "visibility": null,
      "width": null
     }
    },
    "57b223c10cf543b1a5f2835002419988": {
     "model_module": "@jupyter-widgets/controls",
     "model_module_version": "1.5.0",
     "model_name": "HBoxModel",
     "state": {
      "_dom_classes": [],
      "_model_module": "@jupyter-widgets/controls",
      "_model_module_version": "1.5.0",
      "_model_name": "HBoxModel",
      "_view_count": null,
      "_view_module": "@jupyter-widgets/controls",
      "_view_module_version": "1.5.0",
      "_view_name": "HBoxView",
      "box_style": "",
      "children": [
       "IPY_MODEL_37655e5765f14fedb259f8b83b0c057b",
       "IPY_MODEL_91516a733c42453099cd69b7ad3f5ad4",
       "IPY_MODEL_1e8352a6b3fe42479efa678edd9ea2ca"
      ],
      "layout": "IPY_MODEL_7e651a8358584475b0c9b431e8063d8e"
     }
    },
    "5fef94d7b6d64b668fd21e45e8191980": {
     "model_module": "@jupyter-widgets/controls",
     "model_module_version": "1.5.0",
     "model_name": "DescriptionStyleModel",
     "state": {
      "_model_module": "@jupyter-widgets/controls",
      "_model_module_version": "1.5.0",
      "_model_name": "DescriptionStyleModel",
      "_view_count": null,
      "_view_module": "@jupyter-widgets/base",
      "_view_module_version": "1.2.0",
      "_view_name": "StyleView",
      "description_width": ""
     }
    },
    "6305570dc74740c8923c92cbd896f561": {
     "model_module": "@jupyter-widgets/base",
     "model_module_version": "1.2.0",
     "model_name": "LayoutModel",
     "state": {
      "_model_module": "@jupyter-widgets/base",
      "_model_module_version": "1.2.0",
      "_model_name": "LayoutModel",
      "_view_count": null,
      "_view_module": "@jupyter-widgets/base",
      "_view_module_version": "1.2.0",
      "_view_name": "LayoutView",
      "align_content": null,
      "align_items": null,
      "align_self": null,
      "border": null,
      "bottom": null,
      "display": null,
      "flex": null,
      "flex_flow": null,
      "grid_area": null,
      "grid_auto_columns": null,
      "grid_auto_flow": null,
      "grid_auto_rows": null,
      "grid_column": null,
      "grid_gap": null,
      "grid_row": null,
      "grid_template_areas": null,
      "grid_template_columns": null,
      "grid_template_rows": null,
      "height": null,
      "justify_content": null,
      "justify_items": null,
      "left": null,
      "margin": null,
      "max_height": null,
      "max_width": null,
      "min_height": null,
      "min_width": null,
      "object_fit": null,
      "object_position": null,
      "order": null,
      "overflow": null,
      "overflow_x": null,
      "overflow_y": null,
      "padding": null,
      "right": null,
      "top": null,
      "visibility": null,
      "width": null
     }
    },
    "7534443eda7048419822b78dff6b3f7e": {
     "model_module": "@jupyter-widgets/base",
     "model_module_version": "1.2.0",
     "model_name": "LayoutModel",
     "state": {
      "_model_module": "@jupyter-widgets/base",
      "_model_module_version": "1.2.0",
      "_model_name": "LayoutModel",
      "_view_count": null,
      "_view_module": "@jupyter-widgets/base",
      "_view_module_version": "1.2.0",
      "_view_name": "LayoutView",
      "align_content": null,
      "align_items": null,
      "align_self": null,
      "border": null,
      "bottom": null,
      "display": null,
      "flex": null,
      "flex_flow": null,
      "grid_area": null,
      "grid_auto_columns": null,
      "grid_auto_flow": null,
      "grid_auto_rows": null,
      "grid_column": null,
      "grid_gap": null,
      "grid_row": null,
      "grid_template_areas": null,
      "grid_template_columns": null,
      "grid_template_rows": null,
      "height": null,
      "justify_content": null,
      "justify_items": null,
      "left": null,
      "margin": null,
      "max_height": null,
      "max_width": null,
      "min_height": null,
      "min_width": null,
      "object_fit": null,
      "object_position": null,
      "order": null,
      "overflow": null,
      "overflow_x": null,
      "overflow_y": null,
      "padding": null,
      "right": null,
      "top": null,
      "visibility": null,
      "width": null
     }
    },
    "786da8a494d84e48b4607005f13404a3": {
     "model_module": "@jupyter-widgets/controls",
     "model_module_version": "1.5.0",
     "model_name": "FloatProgressModel",
     "state": {
      "_dom_classes": [],
      "_model_module": "@jupyter-widgets/controls",
      "_model_module_version": "1.5.0",
      "_model_name": "FloatProgressModel",
      "_view_count": null,
      "_view_module": "@jupyter-widgets/controls",
      "_view_module_version": "1.5.0",
      "_view_name": "ProgressView",
      "bar_style": "success",
      "description": "",
      "description_tooltip": null,
      "layout": "IPY_MODEL_afc1af8111094af18320764e9c544c3f",
      "max": 14640,
      "min": 0,
      "orientation": "horizontal",
      "style": "IPY_MODEL_4b9dfce1139d4d328f93c789b9b51d65",
      "value": 14640
     }
    },
    "7b49d086c53c41cdbe4642a3b88c12f8": {
     "model_module": "@jupyter-widgets/controls",
     "model_module_version": "1.5.0",
     "model_name": "HTMLModel",
     "state": {
      "_dom_classes": [],
      "_model_module": "@jupyter-widgets/controls",
      "_model_module_version": "1.5.0",
      "_model_name": "HTMLModel",
      "_view_count": null,
      "_view_module": "@jupyter-widgets/controls",
      "_view_module_version": "1.5.0",
      "_view_name": "HTMLView",
      "description": "",
      "description_tooltip": null,
      "layout": "IPY_MODEL_0c9012fd526343d7813eafe1aba947e7",
      "placeholder": "​",
      "style": "IPY_MODEL_5fef94d7b6d64b668fd21e45e8191980",
      "value": " 14640/14640 [00:06&lt;00:00, 2806.53 examples/s]"
     }
    },
    "7e651a8358584475b0c9b431e8063d8e": {
     "model_module": "@jupyter-widgets/base",
     "model_module_version": "1.2.0",
     "model_name": "LayoutModel",
     "state": {
      "_model_module": "@jupyter-widgets/base",
      "_model_module_version": "1.2.0",
      "_model_name": "LayoutModel",
      "_view_count": null,
      "_view_module": "@jupyter-widgets/base",
      "_view_module_version": "1.2.0",
      "_view_name": "LayoutView",
      "align_content": null,
      "align_items": null,
      "align_self": null,
      "border": null,
      "bottom": null,
      "display": null,
      "flex": null,
      "flex_flow": null,
      "grid_area": null,
      "grid_auto_columns": null,
      "grid_auto_flow": null,
      "grid_auto_rows": null,
      "grid_column": null,
      "grid_gap": null,
      "grid_row": null,
      "grid_template_areas": null,
      "grid_template_columns": null,
      "grid_template_rows": null,
      "height": null,
      "justify_content": null,
      "justify_items": null,
      "left": null,
      "margin": null,
      "max_height": null,
      "max_width": null,
      "min_height": null,
      "min_width": null,
      "object_fit": null,
      "object_position": null,
      "order": null,
      "overflow": null,
      "overflow_x": null,
      "overflow_y": null,
      "padding": null,
      "right": null,
      "top": null,
      "visibility": null,
      "width": null
     }
    },
    "91516a733c42453099cd69b7ad3f5ad4": {
     "model_module": "@jupyter-widgets/controls",
     "model_module_version": "1.5.0",
     "model_name": "FloatProgressModel",
     "state": {
      "_dom_classes": [],
      "_model_module": "@jupyter-widgets/controls",
      "_model_module_version": "1.5.0",
      "_model_name": "FloatProgressModel",
      "_view_count": null,
      "_view_module": "@jupyter-widgets/controls",
      "_view_module_version": "1.5.0",
      "_view_name": "ProgressView",
      "bar_style": "success",
      "description": "",
      "description_tooltip": null,
      "layout": "IPY_MODEL_dcc05f4588c24390b6fa893ca823ab4d",
      "max": 14640,
      "min": 0,
      "orientation": "horizontal",
      "style": "IPY_MODEL_d9ff41b0f1384bb6a73c9bff822788f1",
      "value": 14640
     }
    },
    "9241829188c24f328880688ed885d261": {
     "model_module": "@jupyter-widgets/controls",
     "model_module_version": "1.5.0",
     "model_name": "DescriptionStyleModel",
     "state": {
      "_model_module": "@jupyter-widgets/controls",
      "_model_module_version": "1.5.0",
      "_model_name": "DescriptionStyleModel",
      "_view_count": null,
      "_view_module": "@jupyter-widgets/base",
      "_view_module_version": "1.2.0",
      "_view_name": "StyleView",
      "description_width": ""
     }
    },
    "afc1af8111094af18320764e9c544c3f": {
     "model_module": "@jupyter-widgets/base",
     "model_module_version": "1.2.0",
     "model_name": "LayoutModel",
     "state": {
      "_model_module": "@jupyter-widgets/base",
      "_model_module_version": "1.2.0",
      "_model_name": "LayoutModel",
      "_view_count": null,
      "_view_module": "@jupyter-widgets/base",
      "_view_module_version": "1.2.0",
      "_view_name": "LayoutView",
      "align_content": null,
      "align_items": null,
      "align_self": null,
      "border": null,
      "bottom": null,
      "display": null,
      "flex": null,
      "flex_flow": null,
      "grid_area": null,
      "grid_auto_columns": null,
      "grid_auto_flow": null,
      "grid_auto_rows": null,
      "grid_column": null,
      "grid_gap": null,
      "grid_row": null,
      "grid_template_areas": null,
      "grid_template_columns": null,
      "grid_template_rows": null,
      "height": null,
      "justify_content": null,
      "justify_items": null,
      "left": null,
      "margin": null,
      "max_height": null,
      "max_width": null,
      "min_height": null,
      "min_width": null,
      "object_fit": null,
      "object_position": null,
      "order": null,
      "overflow": null,
      "overflow_x": null,
      "overflow_y": null,
      "padding": null,
      "right": null,
      "top": null,
      "visibility": null,
      "width": null
     }
    },
    "b5de8c3ddfd7480881a53fa32fe2f128": {
     "model_module": "@jupyter-widgets/controls",
     "model_module_version": "1.5.0",
     "model_name": "DescriptionStyleModel",
     "state": {
      "_model_module": "@jupyter-widgets/controls",
      "_model_module_version": "1.5.0",
      "_model_name": "DescriptionStyleModel",
      "_view_count": null,
      "_view_module": "@jupyter-widgets/base",
      "_view_module_version": "1.2.0",
      "_view_name": "StyleView",
      "description_width": ""
     }
    },
    "c16d0827e97b414f91a5af72f3592613": {
     "model_module": "@jupyter-widgets/controls",
     "model_module_version": "1.5.0",
     "model_name": "DescriptionStyleModel",
     "state": {
      "_model_module": "@jupyter-widgets/controls",
      "_model_module_version": "1.5.0",
      "_model_name": "DescriptionStyleModel",
      "_view_count": null,
      "_view_module": "@jupyter-widgets/base",
      "_view_module_version": "1.2.0",
      "_view_name": "StyleView",
      "description_width": ""
     }
    },
    "d9ff41b0f1384bb6a73c9bff822788f1": {
     "model_module": "@jupyter-widgets/controls",
     "model_module_version": "1.5.0",
     "model_name": "ProgressStyleModel",
     "state": {
      "_model_module": "@jupyter-widgets/controls",
      "_model_module_version": "1.5.0",
      "_model_name": "ProgressStyleModel",
      "_view_count": null,
      "_view_module": "@jupyter-widgets/base",
      "_view_module_version": "1.2.0",
      "_view_name": "StyleView",
      "bar_color": null,
      "description_width": ""
     }
    },
    "dcc05f4588c24390b6fa893ca823ab4d": {
     "model_module": "@jupyter-widgets/base",
     "model_module_version": "1.2.0",
     "model_name": "LayoutModel",
     "state": {
      "_model_module": "@jupyter-widgets/base",
      "_model_module_version": "1.2.0",
      "_model_name": "LayoutModel",
      "_view_count": null,
      "_view_module": "@jupyter-widgets/base",
      "_view_module_version": "1.2.0",
      "_view_name": "LayoutView",
      "align_content": null,
      "align_items": null,
      "align_self": null,
      "border": null,
      "bottom": null,
      "display": null,
      "flex": null,
      "flex_flow": null,
      "grid_area": null,
      "grid_auto_columns": null,
      "grid_auto_flow": null,
      "grid_auto_rows": null,
      "grid_column": null,
      "grid_gap": null,
      "grid_row": null,
      "grid_template_areas": null,
      "grid_template_columns": null,
      "grid_template_rows": null,
      "height": null,
      "justify_content": null,
      "justify_items": null,
      "left": null,
      "margin": null,
      "max_height": null,
      "max_width": null,
      "min_height": null,
      "min_width": null,
      "object_fit": null,
      "object_position": null,
      "order": null,
      "overflow": null,
      "overflow_x": null,
      "overflow_y": null,
      "padding": null,
      "right": null,
      "top": null,
      "visibility": null,
      "width": null
     }
    },
    "ea047f1e03b541aab99da99710cb58f8": {
     "model_module": "@jupyter-widgets/base",
     "model_module_version": "1.2.0",
     "model_name": "LayoutModel",
     "state": {
      "_model_module": "@jupyter-widgets/base",
      "_model_module_version": "1.2.0",
      "_model_name": "LayoutModel",
      "_view_count": null,
      "_view_module": "@jupyter-widgets/base",
      "_view_module_version": "1.2.0",
      "_view_name": "LayoutView",
      "align_content": null,
      "align_items": null,
      "align_self": null,
      "border": null,
      "bottom": null,
      "display": null,
      "flex": null,
      "flex_flow": null,
      "grid_area": null,
      "grid_auto_columns": null,
      "grid_auto_flow": null,
      "grid_auto_rows": null,
      "grid_column": null,
      "grid_gap": null,
      "grid_row": null,
      "grid_template_areas": null,
      "grid_template_columns": null,
      "grid_template_rows": null,
      "height": null,
      "justify_content": null,
      "justify_items": null,
      "left": null,
      "margin": null,
      "max_height": null,
      "max_width": null,
      "min_height": null,
      "min_width": null,
      "object_fit": null,
      "object_position": null,
      "order": null,
      "overflow": null,
      "overflow_x": null,
      "overflow_y": null,
      "padding": null,
      "right": null,
      "top": null,
      "visibility": null,
      "width": null
     }
    }
   }
  }
 },
 "nbformat": 4,
 "nbformat_minor": 5
}
